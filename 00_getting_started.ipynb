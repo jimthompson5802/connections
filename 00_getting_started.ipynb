{
 "cells": [
  {
   "cell_type": "markdown",
   "metadata": {},
   "source": [
    "# Connections\n",
    "\n",
    "Brief description of the problem, link to the website, etc..."
   ]
  },
  {
   "cell_type": "code",
   "execution_count": 6,
   "metadata": {},
   "outputs": [],
   "source": [
    "# load a jsonl file\n",
    "import json\n",
    "\n",
    "def load_jsonl(file_path):\n",
    "    data = []\n",
    "    with open(file_path, 'r') as file:\n",
    "        for line in file:\n",
    "            data.append(json.loads(line))\n",
    "    return data\n",
    "\n",
    "ds = load_jsonl('connections_prompts.jsonl')"
   ]
  },
  {
   "cell_type": "code",
   "execution_count": 9,
   "metadata": {},
   "outputs": [
    {
     "name": "stdout",
     "output_type": "stream",
     "text": [
      "['schmaltz', 'knuckles', 'corn', 'sap', 'loose', 'smile', 'chump', 'egg', 'duct', 'pipe', 'climate', 'sea', 'cheese', 'window', 'drain', 'sewer']\n"
     ]
    }
   ],
   "source": [
    "print(ds[0][\"words\"])\n",
    "\n"
   ]
  },
  {
   "cell_type": "markdown",
   "metadata": {},
   "source": [
    "## Naive approach"
   ]
  },
  {
   "cell_type": "code",
   "execution_count": 11,
   "metadata": {},
   "outputs": [],
   "source": [
    "from openai import OpenAI\n",
    "\n",
    "client = OpenAI()"
   ]
  },
  {
   "cell_type": "code",
   "execution_count": 16,
   "metadata": {},
   "outputs": [],
   "source": [
    "\n",
    "system_prompt = (\n",
    "    \"\"\"The game \"Connections\" is a word game where you start with 16 words and need to group \"\"\"\n",
    "    \"\"\"them into 4 groups of 4. Each grouping has a category that unambiguously groups the four words together.\"\"\"\n",
    "    \"\"\"Each puzzle has exactly one solution. Watch out for words that seem to belong to multiple categories.\"\"\"\n",
    "    \"\"\"You will be given 16 words. Output 4 groupings of 4 words and the categories to which they belong in JSON format.\"\"\"\n",
    ")\n",
    "\n",
    "user_prompt = \"Here are the 16 words: {words}\""
   ]
  },
  {
   "cell_type": "code",
   "execution_count": 17,
   "metadata": {},
   "outputs": [],
   "source": [
    "def call_openai(system_prompt, user_prompt, model=\"gpt-4o\"):\n",
    "    response = client.chat.completions.create(\n",
    "        model=model,\n",
    "        messages=[\n",
    "            {\n",
    "                \"role\": \"system\",\n",
    "                \"content\": system_prompt\n",
    "            },\n",
    "            {\n",
    "                \"role\": \"user\",\n",
    "                \"content\": user_prompt\n",
    "            }\n",
    "            ],\n",
    "            temperature=0.7,\n",
    "            response_format={ \"type\": \"json_object\" }\n",
    "        )\n",
    "    extracted = response.choices[0].message.content\n",
    "    return extracted"
   ]
  },
  {
   "cell_type": "code",
   "execution_count": 19,
   "metadata": {},
   "outputs": [],
   "source": [
    "res = call_openai(system_prompt, user_prompt.format(words=ds[0][\"words\"]))"
   ]
  },
  {
   "cell_type": "code",
   "execution_count": 20,
   "metadata": {},
   "outputs": [
    {
     "data": {
      "text/plain": [
       "{'groups': [{'category': 'Body Parts',\n",
       "   'words': ['knuckles', 'corn', 'loose', 'smile']},\n",
       "  {'category': 'Food', 'words': ['schmaltz', 'corn', 'chump', 'cheese']},\n",
       "  {'category': 'Water-related', 'words': ['sea', 'drain', 'sewer', 'pipe']},\n",
       "  {'category': 'Windows-related',\n",
       "   'words': ['window', 'climate', 'sap', 'duct']}]}"
      ]
     },
     "execution_count": 20,
     "metadata": {},
     "output_type": "execute_result"
    }
   ],
   "source": [
    "json.loads(res)"
   ]
  },
  {
   "cell_type": "code",
   "execution_count": 24,
   "metadata": {},
   "outputs": [
    {
     "data": {
      "text/plain": [
       "['schmaltz',\n",
       " 'knuckles',\n",
       " 'corn',\n",
       " 'sap',\n",
       " 'loose',\n",
       " 'smile',\n",
       " 'chump',\n",
       " 'egg',\n",
       " 'duct',\n",
       " 'pipe',\n",
       " 'climate',\n",
       " 'sea',\n",
       " 'cheese',\n",
       " 'window',\n",
       " 'drain',\n",
       " 'sewer']"
      ]
     },
     "execution_count": 24,
     "metadata": {},
     "output_type": "execute_result"
    }
   ],
   "source": [
    "ds[0][\"words\"]"
   ]
  },
  {
   "cell_type": "code",
   "execution_count": 22,
   "metadata": {},
   "outputs": [
    {
     "data": {
      "text/plain": [
       "{'conduits for water removal': ['drain', 'duct', 'pipe', 'sewer'],\n",
       " 'food products associated with sentimentality': ['cheese',\n",
       "  'corn',\n",
       "  'sap',\n",
       "  'schmaltz'],\n",
       " 'things to crack': ['egg', 'knuckles', 'smile', 'window'],\n",
       " '___ change': ['chump', 'climate', 'loose', 'sea']}"
      ]
     },
     "execution_count": 22,
     "metadata": {},
     "output_type": "execute_result"
    }
   ],
   "source": [
    "ds[0][\"categories\"]"
   ]
  },
  {
   "cell_type": "code",
   "execution_count": null,
   "metadata": {},
   "outputs": [],
   "source": []
  }
 ],
 "metadata": {
  "kernelspec": {
   "display_name": "weave",
   "language": "python",
   "name": "python3"
  },
  "language_info": {
   "codemirror_mode": {
    "name": "ipython",
    "version": 3
   },
   "file_extension": ".py",
   "mimetype": "text/x-python",
   "name": "python",
   "nbconvert_exporter": "python",
   "pygments_lexer": "ipython3",
   "version": "3.11.8"
  }
 },
 "nbformat": 4,
 "nbformat_minor": 2
}
