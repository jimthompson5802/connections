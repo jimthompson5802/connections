{
 "cells": [
  {
   "cell_type": "markdown",
   "metadata": {},
   "source": [
    "# Connections\n",
    "\n",
    "Brief description of the problem, link to the website, etc..."
   ]
  },
  {
   "cell_type": "code",
   "execution_count": 1,
   "metadata": {},
   "outputs": [],
   "source": [
    "# load a jsonl file\n",
    "import json\n",
    "\n",
    "def load_jsonl(file_path):\n",
    "    data = []\n",
    "    with open(file_path, 'r') as file:\n",
    "        for line in file:\n",
    "            data.append(json.loads(line))\n",
    "    return data\n",
    "\n",
    "ds = load_jsonl('connections_prompts.jsonl')"
   ]
  },
  {
   "cell_type": "code",
   "execution_count": 40,
   "metadata": {},
   "outputs": [
    {
     "name": "stdout",
     "output_type": "stream",
     "text": [
      "{'words': ['schmaltz', 'knuckles', 'corn', 'sap', 'loose', 'smile', 'chump', 'egg', 'duct', 'pipe', 'climate', 'sea', 'cheese', 'window', 'drain', 'sewer'], 'categories': {'conduits for water removal': ['drain', 'duct', 'pipe', 'sewer'], 'food products associated with sentimentality': ['cheese', 'corn', 'sap', 'schmaltz'], 'things to crack': ['egg', 'knuckles', 'smile', 'window'], '___ change': ['chump', 'climate', 'loose', 'sea']}}\n"
     ]
    }
   ],
   "source": [
    "print(ds[0])"
   ]
  },
  {
   "cell_type": "code",
   "execution_count": 2,
   "metadata": {},
   "outputs": [
    {
     "name": "stdout",
     "output_type": "stream",
     "text": [
      "['schmaltz', 'knuckles', 'corn', 'sap', 'loose', 'smile', 'chump', 'egg', 'duct', 'pipe', 'climate', 'sea', 'cheese', 'window', 'drain', 'sewer']\n"
     ]
    }
   ],
   "source": [
    "print(ds[0][\"words\"])\n",
    "\n"
   ]
  },
  {
   "cell_type": "markdown",
   "metadata": {},
   "source": [
    "## Naive approach"
   ]
  },
  {
   "cell_type": "code",
   "execution_count": 3,
   "metadata": {},
   "outputs": [],
   "source": [
    "from openai import OpenAI\n",
    "\n",
    "client = OpenAI()"
   ]
  },
  {
   "cell_type": "code",
   "execution_count": 31,
   "metadata": {},
   "outputs": [],
   "source": [
    "system_prompt = (\n",
    "    \"\"\"The game \"Connections\" is a word game where you start with 16 words and need to group \"\"\"\n",
    "    \"\"\"them into 4 groups of 4. Each grouping has a category that unambiguously groups the four words together.\"\"\"\n",
    "    \"\"\"Each puzzle has exactly one solution. Watch out for words that seem to belong to multiple categories.\"\"\"\n",
    "    \"\"\"You will be given 16 words. Output 4 groups of 4 words and the categories to which they belong\"\"\"\n",
    "    \"\"\"The results should be in JSON format as following:\n",
    "    {\"category1\": [\"word1\", \"word2\", \"word3\", \"word4\"], \"category2\": [\"word1\", \"word2\", \"word3\", \"word4\"]}]}\n",
    "    \"\"\"\n",
    ")\n",
    "\n",
    "user_prompt = \"Here are the 16 words: {words}\""
   ]
  },
  {
   "cell_type": "code",
   "execution_count": 5,
   "metadata": {},
   "outputs": [
    {
     "name": "stdout",
     "output_type": "stream",
     "text": [
      "Logged in as Weights & Biases user: capecape.\n",
      "View Weave data at https://wandb.ai/capecape/connections/weave\n"
     ]
    },
    {
     "data": {
      "text/plain": []
     },
     "execution_count": 5,
     "metadata": {},
     "output_type": "execute_result"
    }
   ],
   "source": [
    "import weave\n",
    "\n",
    "weave.init(\"connections\")"
   ]
  },
  {
   "cell_type": "code",
   "execution_count": 32,
   "metadata": {},
   "outputs": [],
   "source": [
    "@weave.op()\n",
    "def call_openai(system_prompt, user_prompt, model=\"gpt-4o\"):\n",
    "    response = client.chat.completions.create(\n",
    "        model=model,\n",
    "        messages=[\n",
    "            {\n",
    "                \"role\": \"system\",\n",
    "                \"content\": system_prompt\n",
    "            },\n",
    "            {\n",
    "                \"role\": \"user\",\n",
    "                \"content\": user_prompt\n",
    "            }\n",
    "            ],\n",
    "            temperature=0.7,\n",
    "            response_format={ \"type\": \"json_object\" }\n",
    "        )\n",
    "    extracted = response.choices[0].message.content\n",
    "    return extracted"
   ]
  },
  {
   "cell_type": "code",
   "execution_count": 33,
   "metadata": {},
   "outputs": [
    {
     "name": "stdout",
     "output_type": "stream",
     "text": [
      "🍩 https://wandb.ai/capecape/connections/r/call/a38c6826-695f-4718-b9d7-b14bc6c2e59b\n"
     ]
    }
   ],
   "source": [
    "res = call_openai(system_prompt, user_prompt.format(words=ds[0][\"words\"]))\n",
    "generation = json.loads(res)"
   ]
  },
  {
   "cell_type": "code",
   "execution_count": 34,
   "metadata": {},
   "outputs": [
    {
     "name": "stdout",
     "output_type": "stream",
     "text": [
      "('category1', ['duct', 'pipe', 'drain', 'sewer'])\n",
      "('category2', ['schmaltz', 'cheese', 'corn', 'sap'])\n",
      "('category3', ['smile', 'loose', 'climate', 'sea'])\n",
      "('category4', ['knuckles', 'chump', 'egg', 'window'])\n"
     ]
    }
   ],
   "source": [
    "for group in generation.items():\n",
    "    print(group)"
   ]
  },
  {
   "cell_type": "markdown",
   "metadata": {},
   "source": [
    "Let's create a function to check if the groups are valid"
   ]
  },
  {
   "cell_type": "code",
   "execution_count": 9,
   "metadata": {},
   "outputs": [
    {
     "data": {
      "text/plain": [
       "[['schmaltz', 'loose', 'smile', 'chump'],\n",
       " ['knuckles', 'duct', 'pipe', 'drain'],\n",
       " ['corn', 'egg', 'cheese', 'sap'],\n",
       " ['climate', 'sea', 'window', 'sewer']]"
      ]
     },
     "execution_count": 9,
     "metadata": {},
     "output_type": "execute_result"
    }
   ],
   "source": [
    "flat_generation = list(generation.values())\n",
    "flat_generation"
   ]
  },
  {
   "cell_type": "code",
   "execution_count": 10,
   "metadata": {},
   "outputs": [
    {
     "data": {
      "text/plain": [
       "[['drain', 'duct', 'pipe', 'sewer'],\n",
       " ['cheese', 'corn', 'sap', 'schmaltz'],\n",
       " ['egg', 'knuckles', 'smile', 'window'],\n",
       " ['chump', 'climate', 'loose', 'sea']]"
      ]
     },
     "execution_count": 10,
     "metadata": {},
     "output_type": "execute_result"
    }
   ],
   "source": [
    "flat_solution = list(ds[0][\"categories\"].values())\n",
    "flat_solution"
   ]
  },
  {
   "cell_type": "code",
   "execution_count": 11,
   "metadata": {},
   "outputs": [],
   "source": [
    "@weave.op()\n",
    "def check_solution(categories, model_output):\n",
    "    \"Check that all group of words match the solution\"    \n",
    "    accuracy = 0.\n",
    "    try: # this is ugly, weave shouldn't crash even if chatGPT failed\n",
    "        for sol_cat, sol_group in categories.items():\n",
    "            for gen_cat, gen_group in model_output.items():\n",
    "                if set(gen_group) == set(sol_group):\n",
    "                    print(f\"{gen_cat} ~ {sol_cat}: {gen_group} == {sol_group}\")\n",
    "                    accuracy += 1\n",
    "        return {\"match\": True if accuracy == 4 else False, \"accuracy\": accuracy/4}\n",
    "    except:\n",
    "        return {\"match\": False, \"accuracy\": 0.} "
   ]
  },
  {
   "cell_type": "code",
   "execution_count": 12,
   "metadata": {},
   "outputs": [
    {
     "name": "stdout",
     "output_type": "stream",
     "text": [
      "🍩 https://wandb.ai/capecape/connections/r/call/ced0d5db-b87d-4fbc-976a-85c6118b0a12\n"
     ]
    },
    {
     "data": {
      "text/plain": [
       "{'match': False, 'accuracy': 0.0}"
      ]
     },
     "execution_count": 12,
     "metadata": {},
     "output_type": "execute_result"
    }
   ],
   "source": [
    "check_solution(ds[0][\"categories\"], generation)"
   ]
  },
  {
   "cell_type": "markdown",
   "metadata": {},
   "source": [
    "## Refactor into V1"
   ]
  },
  {
   "cell_type": "code",
   "execution_count": 27,
   "metadata": {},
   "outputs": [],
   "source": [
    "@weave.op()\n",
    "def generate_solution(words, system_prompt, user_prompt):\n",
    "    res = call_openai(system_prompt, user_prompt.format(words=words))\n",
    "    generation = json.loads(res)\n",
    "    return generation"
   ]
  },
  {
   "cell_type": "code",
   "execution_count": 14,
   "metadata": {},
   "outputs": [],
   "source": [
    "class Model1(weave.Model):\n",
    "    system_prompt: str\n",
    "    user_prompt: str\n",
    "\n",
    "    @weave.op()\n",
    "    def predict(self, words):\n",
    "        generation = generate_solution(words, self.system_prompt, self.user_prompt)\n",
    "        return generation"
   ]
  },
  {
   "cell_type": "code",
   "execution_count": 15,
   "metadata": {},
   "outputs": [],
   "source": [
    "weave_eval = weave.Evaluation(dataset=ds[0:10], scorers=[check_solution])"
   ]
  },
  {
   "cell_type": "code",
   "execution_count": 16,
   "metadata": {},
   "outputs": [
    {
     "data": {
      "text/html": [
       "<pre style=\"white-space:pre;overflow-x:auto;line-height:normal;font-family:Menlo,'DejaVu Sans Mono',consolas,'Courier New',monospace\">Evaluated <span style=\"color: #008080; text-decoration-color: #008080; font-weight: bold\">1</span> of <span style=\"color: #008080; text-decoration-color: #008080; font-weight: bold\">10</span> examples\n",
       "</pre>\n"
      ],
      "text/plain": [
       "Evaluated \u001b[1;36m1\u001b[0m of \u001b[1;36m10\u001b[0m examples\n"
      ]
     },
     "metadata": {},
     "output_type": "display_data"
    },
    {
     "name": "stdout",
     "output_type": "stream",
     "text": [
      "category3 ~ breadth: ['reach', 'extent', 'range', 'scope'] == TraceList(['extent', 'range', 'reach', 'scope'])\n"
     ]
    },
    {
     "data": {
      "text/html": [
       "<pre style=\"white-space:pre;overflow-x:auto;line-height:normal;font-family:Menlo,'DejaVu Sans Mono',consolas,'Courier New',monospace\">Evaluated <span style=\"color: #008080; text-decoration-color: #008080; font-weight: bold\">2</span> of <span style=\"color: #008080; text-decoration-color: #008080; font-weight: bold\">10</span> examples\n",
       "</pre>\n"
      ],
      "text/plain": [
       "Evaluated \u001b[1;36m2\u001b[0m of \u001b[1;36m10\u001b[0m examples\n"
      ]
     },
     "metadata": {},
     "output_type": "display_data"
    },
    {
     "name": "stdout",
     "output_type": "stream",
     "text": [
      "category2 ~ musical sections: ['brass', 'wind', 'string', 'rhythm'] == TraceList(['brass', 'rhythm', 'string', 'wind'])\n"
     ]
    },
    {
     "data": {
      "text/html": [
       "<pre style=\"white-space:pre;overflow-x:auto;line-height:normal;font-family:Menlo,'DejaVu Sans Mono',consolas,'Courier New',monospace\">Evaluated <span style=\"color: #008080; text-decoration-color: #008080; font-weight: bold\">3</span> of <span style=\"color: #008080; text-decoration-color: #008080; font-weight: bold\">10</span> examples\n",
       "</pre>\n"
      ],
      "text/plain": [
       "Evaluated \u001b[1;36m3\u001b[0m of \u001b[1;36m10\u001b[0m examples\n"
      ]
     },
     "metadata": {},
     "output_type": "display_data"
    },
    {
     "name": "stdout",
     "output_type": "stream",
     "text": [
      "Awards ~ awards: ['cup', 'trophy', 'ribbon', 'medal'] == TraceList(['cup', 'medal', 'ribbon', 'trophy'])\n"
     ]
    },
    {
     "data": {
      "text/html": [
       "<pre style=\"white-space:pre;overflow-x:auto;line-height:normal;font-family:Menlo,'DejaVu Sans Mono',consolas,'Courier New',monospace\">Evaluated <span style=\"color: #008080; text-decoration-color: #008080; font-weight: bold\">4</span> of <span style=\"color: #008080; text-decoration-color: #008080; font-weight: bold\">10</span> examples\n",
       "</pre>\n"
      ],
      "text/plain": [
       "Evaluated \u001b[1;36m4\u001b[0m of \u001b[1;36m10\u001b[0m examples\n"
      ]
     },
     "metadata": {},
     "output_type": "display_data"
    },
    {
     "name": "stdout",
     "output_type": "stream",
     "text": [
      "Plumbing ~ conduits for water removal: ['pipe', 'duct', 'drain', 'sewer'] == TraceList(['drain', 'duct', 'pipe', 'sewer'])\n"
     ]
    },
    {
     "data": {
      "text/html": [
       "<pre style=\"white-space:pre;overflow-x:auto;line-height:normal;font-family:Menlo,'DejaVu Sans Mono',consolas,'Courier New',monospace\">Evaluated <span style=\"color: #008080; text-decoration-color: #008080; font-weight: bold\">5</span> of <span style=\"color: #008080; text-decoration-color: #008080; font-weight: bold\">10</span> examples\n",
       "</pre>\n"
      ],
      "text/plain": [
       "Evaluated \u001b[1;36m5\u001b[0m of \u001b[1;36m10\u001b[0m examples\n"
      ]
     },
     "metadata": {},
     "output_type": "display_data"
    },
    {
     "name": "stdout",
     "output_type": "stream",
     "text": [
      "Sodas ~ soda brands: ['crush', 'sprite', 'mug', 'squirt'] == TraceList(['crush', 'mug', 'sprite', 'squirt'])\n"
     ]
    },
    {
     "data": {
      "text/html": [
       "<pre style=\"white-space:pre;overflow-x:auto;line-height:normal;font-family:Menlo,'DejaVu Sans Mono',consolas,'Courier New',monospace\">Evaluated <span style=\"color: #008080; text-decoration-color: #008080; font-weight: bold\">6</span> of <span style=\"color: #008080; text-decoration-color: #008080; font-weight: bold\">10</span> examples\n",
       "</pre>\n"
      ],
      "text/plain": [
       "Evaluated \u001b[1;36m6\u001b[0m of \u001b[1;36m10\u001b[0m examples\n"
      ]
     },
     "metadata": {},
     "output_type": "display_data"
    },
    {
     "name": "stdout",
     "output_type": "stream",
     "text": [
      "Dance Moves ~ dance fads: ['twist', 'mashed potato', 'dougie', 'macarena'] == TraceList(['dougie', 'macarena', 'mashed potato', 'twist'])\n",
      "Things with Links ~ things with links: ['chain', 'golf course', 'website', 'sausage'] == TraceList(['chain', 'golf course', 'sausage', 'website'])\n"
     ]
    },
    {
     "data": {
      "text/html": [
       "<pre style=\"white-space:pre;overflow-x:auto;line-height:normal;font-family:Menlo,'DejaVu Sans Mono',consolas,'Courier New',monospace\">Evaluated <span style=\"color: #008080; text-decoration-color: #008080; font-weight: bold\">7</span> of <span style=\"color: #008080; text-decoration-color: #008080; font-weight: bold\">10</span> examples\n",
       "</pre>\n"
      ],
      "text/plain": [
       "Evaluated \u001b[1;36m7\u001b[0m of \u001b[1;36m10\u001b[0m examples\n"
      ]
     },
     "metadata": {},
     "output_type": "display_data"
    },
    {
     "data": {
      "text/html": [
       "<pre style=\"white-space:pre;overflow-x:auto;line-height:normal;font-family:Menlo,'DejaVu Sans Mono',consolas,'Courier New',monospace\">Evaluated <span style=\"color: #008080; text-decoration-color: #008080; font-weight: bold\">8</span> of <span style=\"color: #008080; text-decoration-color: #008080; font-weight: bold\">10</span> examples\n",
       "</pre>\n"
      ],
      "text/plain": [
       "Evaluated \u001b[1;36m8\u001b[0m of \u001b[1;36m10\u001b[0m examples\n"
      ]
     },
     "metadata": {},
     "output_type": "display_data"
    },
    {
     "data": {
      "text/html": [
       "<pre style=\"white-space:pre;overflow-x:auto;line-height:normal;font-family:Menlo,'DejaVu Sans Mono',consolas,'Courier New',monospace\">Evaluated <span style=\"color: #008080; text-decoration-color: #008080; font-weight: bold\">9</span> of <span style=\"color: #008080; text-decoration-color: #008080; font-weight: bold\">10</span> examples\n",
       "</pre>\n"
      ],
      "text/plain": [
       "Evaluated \u001b[1;36m9\u001b[0m of \u001b[1;36m10\u001b[0m examples\n"
      ]
     },
     "metadata": {},
     "output_type": "display_data"
    },
    {
     "data": {
      "text/html": [
       "<pre style=\"white-space:pre;overflow-x:auto;line-height:normal;font-family:Menlo,'DejaVu Sans Mono',consolas,'Courier New',monospace\">Evaluated <span style=\"color: #008080; text-decoration-color: #008080; font-weight: bold\">10</span> of <span style=\"color: #008080; text-decoration-color: #008080; font-weight: bold\">10</span> examples\n",
       "</pre>\n"
      ],
      "text/plain": [
       "Evaluated \u001b[1;36m10\u001b[0m of \u001b[1;36m10\u001b[0m examples\n"
      ]
     },
     "metadata": {},
     "output_type": "display_data"
    },
    {
     "data": {
      "text/html": [
       "<pre style=\"white-space:pre;overflow-x:auto;line-height:normal;font-family:Menlo,'DejaVu Sans Mono',consolas,'Courier New',monospace\">Evaluation summary\n",
       "<span style=\"font-weight: bold\">{</span>\n",
       "    <span style=\"color: #008000; text-decoration-color: #008000\">'check_solution'</span>: <span style=\"font-weight: bold\">{</span><span style=\"color: #008000; text-decoration-color: #008000\">'match'</span>: <span style=\"font-weight: bold\">{</span><span style=\"color: #008000; text-decoration-color: #008000\">'true_count'</span>: <span style=\"color: #008080; text-decoration-color: #008080; font-weight: bold\">0</span>, <span style=\"color: #008000; text-decoration-color: #008000\">'true_fraction'</span>: <span style=\"color: #008080; text-decoration-color: #008080; font-weight: bold\">0.0</span><span style=\"font-weight: bold\">}</span>, <span style=\"color: #008000; text-decoration-color: #008000\">'accuracy'</span>: <span style=\"font-weight: bold\">{</span><span style=\"color: #008000; text-decoration-color: #008000\">'mean'</span>: <span style=\"color: #008080; text-decoration-color: #008080; font-weight: bold\">0.175</span><span style=\"font-weight: bold\">}}</span>,\n",
       "    <span style=\"color: #008000; text-decoration-color: #008000\">'model_latency'</span>: <span style=\"font-weight: bold\">{</span><span style=\"color: #008000; text-decoration-color: #008000\">'mean'</span>: <span style=\"color: #008080; text-decoration-color: #008080; font-weight: bold\">8.111122131347656</span><span style=\"font-weight: bold\">}</span>\n",
       "<span style=\"font-weight: bold\">}</span>\n",
       "</pre>\n"
      ],
      "text/plain": [
       "Evaluation summary\n",
       "\u001b[1m{\u001b[0m\n",
       "    \u001b[32m'check_solution'\u001b[0m: \u001b[1m{\u001b[0m\u001b[32m'match'\u001b[0m: \u001b[1m{\u001b[0m\u001b[32m'true_count'\u001b[0m: \u001b[1;36m0\u001b[0m, \u001b[32m'true_fraction'\u001b[0m: \u001b[1;36m0.0\u001b[0m\u001b[1m}\u001b[0m, \u001b[32m'accuracy'\u001b[0m: \u001b[1m{\u001b[0m\u001b[32m'mean'\u001b[0m: \u001b[1;36m0.175\u001b[0m\u001b[1m}\u001b[0m\u001b[1m}\u001b[0m,\n",
       "    \u001b[32m'model_latency'\u001b[0m: \u001b[1m{\u001b[0m\u001b[32m'mean'\u001b[0m: \u001b[1;36m8.111122131347656\u001b[0m\u001b[1m}\u001b[0m\n",
       "\u001b[1m}\u001b[0m\n"
      ]
     },
     "metadata": {},
     "output_type": "display_data"
    },
    {
     "name": "stdout",
     "output_type": "stream",
     "text": [
      "🍩 https://wandb.ai/capecape/connections/r/call/85df6ab9-5c74-44be-aabc-5452d8f88bc3\n"
     ]
    },
    {
     "data": {
      "text/plain": [
       "{'check_solution': {'match': {'true_count': 0, 'true_fraction': 0.0},\n",
       "  'accuracy': {'mean': 0.175}},\n",
       " 'model_latency': {'mean': 8.111122131347656}}"
      ]
     },
     "execution_count": 16,
     "metadata": {},
     "output_type": "execute_result"
    }
   ],
   "source": [
    "await weave_eval.evaluate(Model1(system_prompt=system_prompt, user_prompt=user_prompt))"
   ]
  },
  {
   "cell_type": "markdown",
   "metadata": {},
   "source": [
    "## V2"
   ]
  },
  {
   "cell_type": "code",
   "execution_count": 17,
   "metadata": {},
   "outputs": [],
   "source": [
    "extra_system_prompt = \"\"\"\n",
    "Check your solution before submitting it. Be sure about:\n",
    "- that you have 4 groups of 4 words each\n",
    "- that the words are not in the same category\n",
    "- that the words are not in the same group\n",
    "- that the words are not in the same category\n",
    "\"\"\""
   ]
  },
  {
   "cell_type": "code",
   "execution_count": 18,
   "metadata": {},
   "outputs": [
    {
     "data": {
      "text/html": [
       "<pre style=\"white-space:pre;overflow-x:auto;line-height:normal;font-family:Menlo,'DejaVu Sans Mono',consolas,'Courier New',monospace\">Evaluated <span style=\"color: #008080; text-decoration-color: #008080; font-weight: bold\">1</span> of <span style=\"color: #008080; text-decoration-color: #008080; font-weight: bold\">10</span> examples\n",
       "</pre>\n"
      ],
      "text/plain": [
       "Evaluated \u001b[1;36m1\u001b[0m of \u001b[1;36m10\u001b[0m examples\n"
      ]
     },
     "metadata": {},
     "output_type": "display_data"
    },
    {
     "data": {
      "text/html": [
       "<pre style=\"white-space:pre;overflow-x:auto;line-height:normal;font-family:Menlo,'DejaVu Sans Mono',consolas,'Courier New',monospace\">Evaluated <span style=\"color: #008080; text-decoration-color: #008080; font-weight: bold\">2</span> of <span style=\"color: #008080; text-decoration-color: #008080; font-weight: bold\">10</span> examples\n",
       "</pre>\n"
      ],
      "text/plain": [
       "Evaluated \u001b[1;36m2\u001b[0m of \u001b[1;36m10\u001b[0m examples\n"
      ]
     },
     "metadata": {},
     "output_type": "display_data"
    },
    {
     "data": {
      "text/html": [
       "<pre style=\"white-space:pre;overflow-x:auto;line-height:normal;font-family:Menlo,'DejaVu Sans Mono',consolas,'Courier New',monospace\">Evaluated <span style=\"color: #008080; text-decoration-color: #008080; font-weight: bold\">3</span> of <span style=\"color: #008080; text-decoration-color: #008080; font-weight: bold\">10</span> examples\n",
       "</pre>\n"
      ],
      "text/plain": [
       "Evaluated \u001b[1;36m3\u001b[0m of \u001b[1;36m10\u001b[0m examples\n"
      ]
     },
     "metadata": {},
     "output_type": "display_data"
    },
    {
     "name": "stdout",
     "output_type": "stream",
     "text": [
      "awards ~ awards: ['cup', 'trophy', 'ribbon', 'medal'] == TraceList(['cup', 'medal', 'ribbon', 'trophy'])\n"
     ]
    },
    {
     "data": {
      "text/html": [
       "<pre style=\"white-space:pre;overflow-x:auto;line-height:normal;font-family:Menlo,'DejaVu Sans Mono',consolas,'Courier New',monospace\">Evaluated <span style=\"color: #008080; text-decoration-color: #008080; font-weight: bold\">4</span> of <span style=\"color: #008080; text-decoration-color: #008080; font-weight: bold\">10</span> examples\n",
       "</pre>\n"
      ],
      "text/plain": [
       "Evaluated \u001b[1;36m4\u001b[0m of \u001b[1;36m10\u001b[0m examples\n"
      ]
     },
     "metadata": {},
     "output_type": "display_data"
    },
    {
     "name": "stdout",
     "output_type": "stream",
     "text": [
      "Vegetables ~ vegetables that are also fruits: ['eggplant', 'cucumber', 'tomato', 'pepper'] == TraceList(['cucumber', 'eggplant', 'pepper', 'tomato'])\n",
      "3D Shapes ~ 3-d shapes: ['cube', 'cone', 'pyramid', 'sphere'] == TraceList(['cone', 'cube', 'pyramid', 'sphere'])\n"
     ]
    },
    {
     "data": {
      "text/html": [
       "<pre style=\"white-space:pre;overflow-x:auto;line-height:normal;font-family:Menlo,'DejaVu Sans Mono',consolas,'Courier New',monospace\">Evaluated <span style=\"color: #008080; text-decoration-color: #008080; font-weight: bold\">5</span> of <span style=\"color: #008080; text-decoration-color: #008080; font-weight: bold\">10</span> examples\n",
       "</pre>\n"
      ],
      "text/plain": [
       "Evaluated \u001b[1;36m5\u001b[0m of \u001b[1;36m10\u001b[0m examples\n"
      ]
     },
     "metadata": {},
     "output_type": "display_data"
    },
    {
     "name": "stdout",
     "output_type": "stream",
     "text": [
      "dances ~ dance fads: ['twist', 'mashed potato', 'macarena', 'dougie'] == TraceList(['dougie', 'macarena', 'mashed potato', 'twist'])\n",
      "things with links ~ things with links: ['golf course', 'sausage', 'chain', 'website'] == TraceList(['chain', 'golf course', 'sausage', 'website'])\n"
     ]
    },
    {
     "data": {
      "text/html": [
       "<pre style=\"white-space:pre;overflow-x:auto;line-height:normal;font-family:Menlo,'DejaVu Sans Mono',consolas,'Courier New',monospace\">Evaluated <span style=\"color: #008080; text-decoration-color: #008080; font-weight: bold\">6</span> of <span style=\"color: #008080; text-decoration-color: #008080; font-weight: bold\">10</span> examples\n",
       "</pre>\n"
      ],
      "text/plain": [
       "Evaluated \u001b[1;36m6\u001b[0m of \u001b[1;36m10\u001b[0m examples\n"
      ]
     },
     "metadata": {},
     "output_type": "display_data"
    },
    {
     "name": "stdout",
     "output_type": "stream",
     "text": [
      "Measurement or Range ~ breadth: ['extent', 'scope', 'range', 'reach'] == TraceList(['extent', 'range', 'reach', 'scope'])\n",
      "Armor or Protection ~ heraldry terms: ['shield', 'coat', 'crest', 'arms'] == TraceList(['arms', 'coat', 'crest', 'shield'])\n"
     ]
    },
    {
     "data": {
      "text/html": [
       "<pre style=\"white-space:pre;overflow-x:auto;line-height:normal;font-family:Menlo,'DejaVu Sans Mono',consolas,'Courier New',monospace\">Evaluated <span style=\"color: #008080; text-decoration-color: #008080; font-weight: bold\">7</span> of <span style=\"color: #008080; text-decoration-color: #008080; font-weight: bold\">10</span> examples\n",
       "</pre>\n"
      ],
      "text/plain": [
       "Evaluated \u001b[1;36m7\u001b[0m of \u001b[1;36m10\u001b[0m examples\n"
      ]
     },
     "metadata": {},
     "output_type": "display_data"
    },
    {
     "name": "stdout",
     "output_type": "stream",
     "text": [
      "Baseball Equipment ~ baseball equipment: ['base', 'bat', 'glove', 'ball'] == TraceList(['ball', 'base', 'bat', 'glove'])\n",
      "Monopoly Pieces ~ original monopoly tokens: ['thimble', 'iron', 'top hat', 'boot'] == TraceList(['boot', 'iron', 'thimble', 'top hat'])\n"
     ]
    },
    {
     "data": {
      "text/html": [
       "<pre style=\"white-space:pre;overflow-x:auto;line-height:normal;font-family:Menlo,'DejaVu Sans Mono',consolas,'Courier New',monospace\">Evaluated <span style=\"color: #008080; text-decoration-color: #008080; font-weight: bold\">8</span> of <span style=\"color: #008080; text-decoration-color: #008080; font-weight: bold\">10</span> examples\n",
       "</pre>\n"
      ],
      "text/plain": [
       "Evaluated \u001b[1;36m8\u001b[0m of \u001b[1;36m10\u001b[0m examples\n"
      ]
     },
     "metadata": {},
     "output_type": "display_data"
    },
    {
     "data": {
      "text/html": [
       "<pre style=\"white-space:pre;overflow-x:auto;line-height:normal;font-family:Menlo,'DejaVu Sans Mono',consolas,'Courier New',monospace\">Evaluated <span style=\"color: #008080; text-decoration-color: #008080; font-weight: bold\">9</span> of <span style=\"color: #008080; text-decoration-color: #008080; font-weight: bold\">10</span> examples\n",
       "</pre>\n"
      ],
      "text/plain": [
       "Evaluated \u001b[1;36m9\u001b[0m of \u001b[1;36m10\u001b[0m examples\n"
      ]
     },
     "metadata": {},
     "output_type": "display_data"
    },
    {
     "data": {
      "text/html": [
       "<pre style=\"white-space:pre;overflow-x:auto;line-height:normal;font-family:Menlo,'DejaVu Sans Mono',consolas,'Courier New',monospace\">Evaluated <span style=\"color: #008080; text-decoration-color: #008080; font-weight: bold\">10</span> of <span style=\"color: #008080; text-decoration-color: #008080; font-weight: bold\">10</span> examples\n",
       "</pre>\n"
      ],
      "text/plain": [
       "Evaluated \u001b[1;36m10\u001b[0m of \u001b[1;36m10\u001b[0m examples\n"
      ]
     },
     "metadata": {},
     "output_type": "display_data"
    },
    {
     "data": {
      "text/html": [
       "<pre style=\"white-space:pre;overflow-x:auto;line-height:normal;font-family:Menlo,'DejaVu Sans Mono',consolas,'Courier New',monospace\">Evaluation summary\n",
       "<span style=\"font-weight: bold\">{</span>\n",
       "    <span style=\"color: #008000; text-decoration-color: #008000\">'check_solution'</span>: <span style=\"font-weight: bold\">{</span><span style=\"color: #008000; text-decoration-color: #008000\">'match'</span>: <span style=\"font-weight: bold\">{</span><span style=\"color: #008000; text-decoration-color: #008000\">'true_count'</span>: <span style=\"color: #008080; text-decoration-color: #008080; font-weight: bold\">0</span>, <span style=\"color: #008000; text-decoration-color: #008000\">'true_fraction'</span>: <span style=\"color: #008080; text-decoration-color: #008080; font-weight: bold\">0.0</span><span style=\"font-weight: bold\">}</span>, <span style=\"color: #008000; text-decoration-color: #008000\">'accuracy'</span>: <span style=\"font-weight: bold\">{</span><span style=\"color: #008000; text-decoration-color: #008000\">'mean'</span>: <span style=\"color: #008080; text-decoration-color: #008080; font-weight: bold\">0.225</span><span style=\"font-weight: bold\">}}</span>,\n",
       "    <span style=\"color: #008000; text-decoration-color: #008000\">'model_latency'</span>: <span style=\"font-weight: bold\">{</span><span style=\"color: #008000; text-decoration-color: #008000\">'mean'</span>: <span style=\"color: #008080; text-decoration-color: #008080; font-weight: bold\">1.8481802463531494</span><span style=\"font-weight: bold\">}</span>\n",
       "<span style=\"font-weight: bold\">}</span>\n",
       "</pre>\n"
      ],
      "text/plain": [
       "Evaluation summary\n",
       "\u001b[1m{\u001b[0m\n",
       "    \u001b[32m'check_solution'\u001b[0m: \u001b[1m{\u001b[0m\u001b[32m'match'\u001b[0m: \u001b[1m{\u001b[0m\u001b[32m'true_count'\u001b[0m: \u001b[1;36m0\u001b[0m, \u001b[32m'true_fraction'\u001b[0m: \u001b[1;36m0.0\u001b[0m\u001b[1m}\u001b[0m, \u001b[32m'accuracy'\u001b[0m: \u001b[1m{\u001b[0m\u001b[32m'mean'\u001b[0m: \u001b[1;36m0.225\u001b[0m\u001b[1m}\u001b[0m\u001b[1m}\u001b[0m,\n",
       "    \u001b[32m'model_latency'\u001b[0m: \u001b[1m{\u001b[0m\u001b[32m'mean'\u001b[0m: \u001b[1;36m1.8481802463531494\u001b[0m\u001b[1m}\u001b[0m\n",
       "\u001b[1m}\u001b[0m\n"
      ]
     },
     "metadata": {},
     "output_type": "display_data"
    },
    {
     "name": "stdout",
     "output_type": "stream",
     "text": [
      "🍩 https://wandb.ai/capecape/connections/r/call/97a2fe64-8f77-40e3-930b-cb208796be68\n"
     ]
    },
    {
     "data": {
      "text/plain": [
       "{'check_solution': {'match': {'true_count': 0, 'true_fraction': 0.0},\n",
       "  'accuracy': {'mean': 0.225}},\n",
       " 'model_latency': {'mean': 1.8481802463531494}}"
      ]
     },
     "execution_count": 18,
     "metadata": {},
     "output_type": "execute_result"
    }
   ],
   "source": [
    "await weave_eval.evaluate(Model1(system_prompt=system_prompt+extra_system_prompt, user_prompt=user_prompt))"
   ]
  },
  {
   "cell_type": "markdown",
   "metadata": {},
   "source": [
    "## V3\n",
    "\n",
    "Let's call the model twice"
   ]
  },
  {
   "cell_type": "code",
   "execution_count": 19,
   "metadata": {},
   "outputs": [
    {
     "data": {
      "text/plain": [
       "{'words': ['schmaltz',\n",
       "  'knuckles',\n",
       "  'corn',\n",
       "  'sap',\n",
       "  'loose',\n",
       "  'smile',\n",
       "  'chump',\n",
       "  'egg',\n",
       "  'duct',\n",
       "  'pipe',\n",
       "  'climate',\n",
       "  'sea',\n",
       "  'cheese',\n",
       "  'window',\n",
       "  'drain',\n",
       "  'sewer'],\n",
       " 'categories': {'conduits for water removal': ['drain',\n",
       "   'duct',\n",
       "   'pipe',\n",
       "   'sewer'],\n",
       "  'food products associated with sentimentality': ['cheese',\n",
       "   'corn',\n",
       "   'sap',\n",
       "   'schmaltz'],\n",
       "  'things to crack': ['egg', 'knuckles', 'smile', 'window'],\n",
       "  '___ change': ['chump', 'climate', 'loose', 'sea']}}"
      ]
     },
     "execution_count": 19,
     "metadata": {},
     "output_type": "execute_result"
    }
   ],
   "source": [
    "ds[0]"
   ]
  },
  {
   "cell_type": "code",
   "execution_count": 35,
   "metadata": {},
   "outputs": [],
   "source": [
    "@weave.op()\n",
    "def check_solution(categories, model_output):\n",
    "    \"Check that all group of words match the solution\"    \n",
    "    accuracy = 0.\n",
    "    correct = {}\n",
    "    try: # this is ugly, weave shouldn't crash even if chatGPT failed\n",
    "        for sol_cat, sol_group in categories.items():\n",
    "            for gen_cat, gen_group in model_output.items():\n",
    "                if set(gen_group) == set(sol_group):\n",
    "                    print(f\"{gen_cat} ~ {sol_cat}: {gen_group} == {sol_group}\")\n",
    "                    accuracy += 1\n",
    "                    correct[gen_cat] = gen_group\n",
    "        return {\"match\": True if accuracy == 4 else False, \"accuracy\": accuracy/4, \"correct\": correct}\n",
    "    except:\n",
    "        return {\"match\": False, \"accuracy\": 0., \"correct\": {}} "
   ]
  },
  {
   "cell_type": "code",
   "execution_count": 36,
   "metadata": {},
   "outputs": [
    {
     "name": "stdout",
     "output_type": "stream",
     "text": [
      "🍩 https://wandb.ai/capecape/connections/r/call/5d854a5d-3300-47f0-a471-a959f2551d15\n"
     ]
    }
   ],
   "source": [
    "sol1 = generate_solution(ds[0][\"words\"], system_prompt, user_prompt)"
   ]
  },
  {
   "cell_type": "code",
   "execution_count": 37,
   "metadata": {},
   "outputs": [
    {
     "data": {
      "text/plain": [
       "{'category1': ['knuckles', 'smile', 'corn', 'loose'],\n",
       " 'category2': ['pipe', 'duct', 'drain', 'sewer'],\n",
       " 'category3': ['cheese', 'sap', 'egg', 'chump'],\n",
       " 'category4': ['schmaltz', 'window', 'climate', 'sea']}"
      ]
     },
     "execution_count": 37,
     "metadata": {},
     "output_type": "execute_result"
    }
   ],
   "source": [
    "sol1"
   ]
  },
  {
   "cell_type": "code",
   "execution_count": 38,
   "metadata": {},
   "outputs": [
    {
     "name": "stdout",
     "output_type": "stream",
     "text": [
      "category2 ~ conduits for water removal: ['pipe', 'duct', 'drain', 'sewer'] == ['drain', 'duct', 'pipe', 'sewer']\n",
      "🍩 https://wandb.ai/capecape/connections/r/call/bd3aa53b-bb2c-4774-b3f5-c7e7eb027c9f\n"
     ]
    },
    {
     "data": {
      "text/plain": [
       "{'match': False,\n",
       " 'accuracy': 0.25,\n",
       " 'correct': {'category2': ['pipe', 'duct', 'drain', 'sewer']}}"
      ]
     },
     "execution_count": 38,
     "metadata": {},
     "output_type": "execute_result"
    }
   ],
   "source": [
    "check_solution(ds[0][\"categories\"], sol1)"
   ]
  },
  {
   "cell_type": "code",
   "execution_count": 48,
   "metadata": {},
   "outputs": [],
   "source": [
    "user_prompt2 = \"\"\"\n",
    "You recently got the following words: {words}\n",
    "You produced the following solution: \n",
    "{solution}\n",
    "This solution has a {accuracy} accuracy.\n",
    "You got correct {correct}.\n",
    "Take this into account, and try to generate a correct solution this time\n",
    "\"\"\""
   ]
  },
  {
   "cell_type": "code",
   "execution_count": 52,
   "metadata": {},
   "outputs": [],
   "source": [
    "class Model2(weave.Model):\n",
    "    system_prompt1: str\n",
    "    user_prompt1: str\n",
    "\n",
    "    system_prompt2: str\n",
    "    user_prompt2: str\n",
    "\n",
    "    @weave.op()\n",
    "    def predict(self, words, categories):\n",
    "        generation = generate_solution(words, self.system_prompt1, self.user_prompt1)\n",
    "        scores = check_solution(categories, generation)\n",
    "        if scores[\"match\"]:\n",
    "            return generation\n",
    "        final_gen = call_openai(self.system_prompt2, \n",
    "                                self.user_prompt2.format(\n",
    "                                    words=words, \n",
    "                                    solution=generation,\n",
    "                                    accuracy=scores[\"accuracy\"],\n",
    "                                    correct=scores[\"correct\"]))\n",
    "        return final_gen\n"
   ]
  },
  {
   "cell_type": "code",
   "execution_count": 53,
   "metadata": {},
   "outputs": [
    {
     "name": "stdout",
     "output_type": "stream",
     "text": [
      "Dances ~ dance fads: ['twist', 'mashed potato', 'dougie', 'macarena'] == TraceList(['dougie', 'macarena', 'mashed potato', 'twist'])\n",
      "Things with Links ~ things with links: ['chain', 'sausage', 'golf course', 'website'] == TraceList(['chain', 'golf course', 'sausage', 'website'])\n",
      "Musical Instruments ~ musical sections: ['brass', 'wind', 'string', 'rhythm'] == TraceList(['brass', 'rhythm', 'string', 'wind'])\n",
      "Vegetables ~ vegetables that are also fruits: ['eggplant', 'cucumber', 'tomato', 'pepper'] == TraceList(['cucumber', 'eggplant', 'pepper', 'tomato'])\n",
      "Shapes ~ 3-d shapes: ['cube', 'cone', 'pyramid', 'sphere'] == TraceList(['cone', 'cube', 'pyramid', 'sphere'])\n",
      "Awards ~ awards: ['trophy', 'medal', 'ribbon', 'cup'] == TraceList(['cup', 'medal', 'ribbon', 'trophy'])\n",
      "Measurement and Distance ~ breadth: ['extent', 'range', 'scope', 'reach'] == TraceList(['extent', 'range', 'reach', 'scope'])\n",
      "Armor and Protection ~ heraldry terms: ['shield', 'arms', 'coat', 'crest'] == TraceList(['arms', 'coat', 'crest', 'shield'])\n",
      "Plumbing ~ conduits for water removal: ['duct', 'pipe', 'drain', 'sewer'] == TraceList(['drain', 'duct', 'pipe', 'sewer'])\n"
     ]
    }
   ],
   "source": [
    "weave_model2 = Model2(system_prompt1=system_prompt, user_prompt1=user_prompt,\n",
    "                      system_prompt2=system_prompt, user_prompt2=user_prompt2)\n",
    "\n",
    "await weave_eval.evaluate(weave_model2)"
   ]
  }
 ],
 "metadata": {
  "kernelspec": {
   "display_name": "weave",
   "language": "python",
   "name": "python3"
  },
  "language_info": {
   "codemirror_mode": {
    "name": "ipython",
    "version": 3
   },
   "file_extension": ".py",
   "mimetype": "text/x-python",
   "name": "python",
   "nbconvert_exporter": "python",
   "pygments_lexer": "ipython3",
   "version": "3.11.8"
  }
 },
 "nbformat": 4,
 "nbformat_minor": 2
}
