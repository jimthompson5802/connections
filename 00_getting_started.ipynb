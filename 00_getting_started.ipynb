{
 "cells": [
  {
   "cell_type": "markdown",
   "metadata": {},
   "source": [
    "# Connections\n",
    "\n",
    "Brief description of the problem, link to the website, etc..."
   ]
  },
  {
   "cell_type": "code",
   "execution_count": 1,
   "metadata": {},
   "outputs": [],
   "source": [
    "# load a jsonl file\n",
    "import json\n",
    "\n",
    "def load_jsonl(file_path):\n",
    "    data = []\n",
    "    with open(file_path, 'r') as file:\n",
    "        for line in file:\n",
    "            data.append(json.loads(line))\n",
    "    return data\n",
    "\n",
    "ds = load_jsonl('connections_prompts.jsonl')"
   ]
  },
  {
   "cell_type": "code",
   "execution_count": 2,
   "metadata": {},
   "outputs": [
    {
     "name": "stdout",
     "output_type": "stream",
     "text": [
      "{'words': ['schmaltz', 'knuckles', 'corn', 'sap', 'loose', 'smile', 'chump', 'egg', 'duct', 'pipe', 'climate', 'sea', 'cheese', 'window', 'drain', 'sewer'], 'categories': {'conduits for water removal': ['drain', 'duct', 'pipe', 'sewer'], 'food products associated with sentimentality': ['cheese', 'corn', 'sap', 'schmaltz'], 'things to crack': ['egg', 'knuckles', 'smile', 'window'], '___ change': ['chump', 'climate', 'loose', 'sea']}}\n"
     ]
    }
   ],
   "source": [
    "print(ds[0])"
   ]
  },
  {
   "cell_type": "code",
   "execution_count": 3,
   "metadata": {},
   "outputs": [
    {
     "name": "stdout",
     "output_type": "stream",
     "text": [
      "['schmaltz', 'knuckles', 'corn', 'sap', 'loose', 'smile', 'chump', 'egg', 'duct', 'pipe', 'climate', 'sea', 'cheese', 'window', 'drain', 'sewer']\n"
     ]
    }
   ],
   "source": [
    "print(ds[0][\"words\"])"
   ]
  },
  {
   "cell_type": "markdown",
   "metadata": {},
   "source": [
    "## Naive approach"
   ]
  },
  {
   "cell_type": "code",
   "execution_count": 4,
   "metadata": {},
   "outputs": [],
   "source": [
    "from openai import OpenAI\n",
    "\n",
    "client = OpenAI()"
   ]
  },
  {
   "cell_type": "code",
   "execution_count": 5,
   "metadata": {},
   "outputs": [],
   "source": [
    "system_prompt = (\n",
    "    \"\"\"The game \"Connections\" is a word game where you start with 16 words and need to group \"\"\"\n",
    "    \"\"\"them into 4 groups of 4. Each grouping has a category that unambiguously groups the four words together.\"\"\"\n",
    "    \"\"\"Each puzzle has exactly one solution. Watch out for words that seem to belong to multiple categories.\"\"\"\n",
    "    \"\"\"You will be given 16 words. Output 4 groups of 4 words and the categories to which they belong\"\"\"\n",
    "    \"\"\"The results should be in JSON format as following:\n",
    "    {\"category1\": [\"word1\", \"word2\", \"word3\", \"word4\"], \"category2\": [\"word1\", \"word2\", \"word3\", \"word4\"]}]}\n",
    "    \"\"\"\n",
    "    \"\"\"For instance, ['eggplant', 'cucumber', 'tomato', 'pepper'] would belong to 'vegetables' category'\"\"\"\n",
    "    \"\"\"You have to think outside of the box, sometimes the categories will not be evident and reference popular culture, art, science or other things.\"\"\"\n",
    ")\n",
    "\n",
    "user_prompt = \"Here are the 16 words: {words}\""
   ]
  },
  {
   "cell_type": "code",
   "execution_count": 6,
   "metadata": {},
   "outputs": [
    {
     "name": "stdout",
     "output_type": "stream",
     "text": [
      "Logged in as Weights & Biases user: capecape.\n",
      "View Weave data at https://wandb.ai/capecape/connections/weave\n"
     ]
    },
    {
     "data": {
      "text/plain": []
     },
     "execution_count": 6,
     "metadata": {},
     "output_type": "execute_result"
    }
   ],
   "source": [
    "import weave\n",
    "\n",
    "weave.init(\"connections\")"
   ]
  },
  {
   "cell_type": "code",
   "execution_count": 7,
   "metadata": {},
   "outputs": [],
   "source": [
    "@weave.op()\n",
    "def call_openai(messages, model=\"gpt-4o\"):\n",
    "    response = client.chat.completions.create(\n",
    "        model=model,\n",
    "        messages=messages,\n",
    "        temperature=0.7,\n",
    "        response_format={ \"type\": \"json_object\" }\n",
    "        )\n",
    "    extracted = response.choices[0].message.content\n",
    "    return extracted"
   ]
  },
  {
   "cell_type": "code",
   "execution_count": 8,
   "metadata": {},
   "outputs": [
    {
     "name": "stdout",
     "output_type": "stream",
     "text": [
      "🍩 https://wandb.ai/capecape/connections/r/call/00cf0293-a879-4cc5-882d-ca96313d34c1\n"
     ]
    }
   ],
   "source": [
    "messages=[\n",
    "    {\n",
    "        \"role\": \"system\",\n",
    "        \"content\": system_prompt\n",
    "    },\n",
    "    {\n",
    "        \"role\": \"user\",\n",
    "        \"content\": user_prompt.format(words=ds[0][\"words\"])\n",
    "    }\n",
    "    ]\n",
    "\n",
    "res = call_openai(messages)\n",
    "generation = json.loads(res)"
   ]
  },
  {
   "cell_type": "code",
   "execution_count": 9,
   "metadata": {},
   "outputs": [
    {
     "name": "stdout",
     "output_type": "stream",
     "text": [
      "('Animal By-products', ['schmaltz', 'knuckles', 'sap', 'cheese'])\n",
      "('Body Parts', ['knuckles', 'loose', 'smile', 'chump'])\n",
      "('Plumbing', ['duct', 'pipe', 'drain', 'sewer'])\n",
      "('Natural Elements', ['corn', 'egg', 'climate', 'sea'])\n"
     ]
    }
   ],
   "source": [
    "for group in generation.items():\n",
    "    print(group)"
   ]
  },
  {
   "cell_type": "markdown",
   "metadata": {},
   "source": [
    "Let's create a function to check if the groups are valid"
   ]
  },
  {
   "cell_type": "code",
   "execution_count": 10,
   "metadata": {},
   "outputs": [
    {
     "data": {
      "text/plain": [
       "[['schmaltz', 'knuckles', 'sap', 'cheese'],\n",
       " ['knuckles', 'loose', 'smile', 'chump'],\n",
       " ['duct', 'pipe', 'drain', 'sewer'],\n",
       " ['corn', 'egg', 'climate', 'sea']]"
      ]
     },
     "execution_count": 10,
     "metadata": {},
     "output_type": "execute_result"
    }
   ],
   "source": [
    "flat_generation = list(generation.values())\n",
    "flat_generation"
   ]
  },
  {
   "cell_type": "code",
   "execution_count": 11,
   "metadata": {},
   "outputs": [
    {
     "data": {
      "text/plain": [
       "[['drain', 'duct', 'pipe', 'sewer'],\n",
       " ['cheese', 'corn', 'sap', 'schmaltz'],\n",
       " ['egg', 'knuckles', 'smile', 'window'],\n",
       " ['chump', 'climate', 'loose', 'sea']]"
      ]
     },
     "execution_count": 11,
     "metadata": {},
     "output_type": "execute_result"
    }
   ],
   "source": [
    "flat_solution = list(ds[0][\"categories\"].values())\n",
    "flat_solution"
   ]
  },
  {
   "cell_type": "code",
   "execution_count": 12,
   "metadata": {},
   "outputs": [],
   "source": [
    "@weave.op()\n",
    "def check_solution(categories, model_output):\n",
    "    \"Check that all group of words match the solution\"    \n",
    "    accuracy = 0.\n",
    "    correct = {}\n",
    "    try: # this is ugly, weave shouldn't crash even if chatGPT failed\n",
    "        for sol_cat, sol_group in categories.items():\n",
    "            for gen_cat, gen_group in model_output.items():\n",
    "                if set(gen_group) == set(sol_group):\n",
    "                    print(f\"{gen_cat} ~ {sol_cat}: {gen_group} == {sol_group}\")\n",
    "                    accuracy += 1\n",
    "                    correct[gen_cat] = gen_group\n",
    "        return {\"match\": True if accuracy == 4 else False, \"accuracy\": accuracy/4, \"correct\": correct}\n",
    "    except:\n",
    "        return {\"match\": False, \"accuracy\": 0., \"correct\": {}} "
   ]
  },
  {
   "cell_type": "code",
   "execution_count": 13,
   "metadata": {},
   "outputs": [
    {
     "name": "stdout",
     "output_type": "stream",
     "text": [
      "Plumbing ~ conduits for water removal: ['duct', 'pipe', 'drain', 'sewer'] == ['drain', 'duct', 'pipe', 'sewer']\n",
      "🍩 https://wandb.ai/capecape/connections/r/call/c7f5660a-4391-4014-a250-51f0e36c3eae\n"
     ]
    },
    {
     "data": {
      "text/plain": [
       "{'match': False,\n",
       " 'accuracy': 0.25,\n",
       " 'correct': {'Plumbing': ['duct', 'pipe', 'drain', 'sewer']}}"
      ]
     },
     "execution_count": 13,
     "metadata": {},
     "output_type": "execute_result"
    }
   ],
   "source": [
    "check_solution(ds[0][\"categories\"], generation)"
   ]
  },
  {
   "cell_type": "markdown",
   "metadata": {},
   "source": [
    "## Refactor into V1"
   ]
  },
  {
   "cell_type": "code",
   "execution_count": 14,
   "metadata": {},
   "outputs": [],
   "source": [
    "@weave.op()\n",
    "def generate_solution(system_prompt, user_prompt):\n",
    "    messages=[\n",
    "        {\n",
    "            \"role\": \"system\",\n",
    "            \"content\": system_prompt\n",
    "        },\n",
    "        {\n",
    "            \"role\": \"user\",\n",
    "            \"content\": user_prompt\n",
    "        }\n",
    "    ]\n",
    "    res = call_openai(messages)\n",
    "    generation = json.loads(res)\n",
    "    return generation"
   ]
  },
  {
   "cell_type": "code",
   "execution_count": 15,
   "metadata": {},
   "outputs": [],
   "source": [
    "class Model1(weave.Model):\n",
    "    system_prompt: str\n",
    "    user_prompt: str\n",
    "\n",
    "    @weave.op()\n",
    "    def predict(self, words):\n",
    "        generation = generate_solution(\n",
    "            self.system_prompt, \n",
    "            self.user_prompt.format(words=words))\n",
    "        return generation"
   ]
  },
  {
   "cell_type": "code",
   "execution_count": 18,
   "metadata": {},
   "outputs": [],
   "source": [
    "weave_eval = weave.Evaluation(dataset=ds[0:10], scorers=[check_solution])"
   ]
  },
  {
   "cell_type": "code",
   "execution_count": 123,
   "metadata": {},
   "outputs": [
    {
     "data": {
      "text/html": [
       "<pre style=\"white-space:pre;overflow-x:auto;line-height:normal;font-family:Menlo,'DejaVu Sans Mono',consolas,'Courier New',monospace\">Evaluated <span style=\"color: #008080; text-decoration-color: #008080; font-weight: bold\">1</span> of <span style=\"color: #008080; text-decoration-color: #008080; font-weight: bold\">10</span> examples\n",
       "</pre>\n"
      ],
      "text/plain": [
       "Evaluated \u001b[1;36m1\u001b[0m of \u001b[1;36m10\u001b[0m examples\n"
      ]
     },
     "metadata": {},
     "output_type": "display_data"
    },
    {
     "name": "stdout",
     "output_type": "stream",
     "text": [
      "Vegetables ~ vegetables that are also fruits: ['eggplant', 'cucumber', 'tomato', 'pepper'] == TraceList(['cucumber', 'eggplant', 'pepper', 'tomato'])\n",
      "Shapes ~ 3-d shapes: ['cube', 'cone', 'pyramid', 'sphere'] == TraceList(['cone', 'cube', 'pyramid', 'sphere'])\n"
     ]
    },
    {
     "data": {
      "text/html": [
       "<pre style=\"white-space:pre;overflow-x:auto;line-height:normal;font-family:Menlo,'DejaVu Sans Mono',consolas,'Courier New',monospace\">Evaluated <span style=\"color: #008080; text-decoration-color: #008080; font-weight: bold\">2</span> of <span style=\"color: #008080; text-decoration-color: #008080; font-weight: bold\">10</span> examples\n",
       "</pre>\n"
      ],
      "text/plain": [
       "Evaluated \u001b[1;36m2\u001b[0m of \u001b[1;36m10\u001b[0m examples\n"
      ]
     },
     "metadata": {},
     "output_type": "display_data"
    },
    {
     "name": "stdout",
     "output_type": "stream",
     "text": [
      "Plumbing ~ conduits for water removal: ['pipe', 'duct', 'drain', 'sewer'] == TraceList(['drain', 'duct', 'pipe', 'sewer'])\n"
     ]
    },
    {
     "data": {
      "text/html": [
       "<pre style=\"white-space:pre;overflow-x:auto;line-height:normal;font-family:Menlo,'DejaVu Sans Mono',consolas,'Courier New',monospace\">Evaluated <span style=\"color: #008080; text-decoration-color: #008080; font-weight: bold\">3</span> of <span style=\"color: #008080; text-decoration-color: #008080; font-weight: bold\">10</span> examples\n",
       "</pre>\n"
      ],
      "text/plain": [
       "Evaluated \u001b[1;36m3\u001b[0m of \u001b[1;36m10\u001b[0m examples\n"
      ]
     },
     "metadata": {},
     "output_type": "display_data"
    },
    {
     "data": {
      "text/html": [
       "<pre style=\"white-space:pre;overflow-x:auto;line-height:normal;font-family:Menlo,'DejaVu Sans Mono',consolas,'Courier New',monospace\">Evaluated <span style=\"color: #008080; text-decoration-color: #008080; font-weight: bold\">4</span> of <span style=\"color: #008080; text-decoration-color: #008080; font-weight: bold\">10</span> examples\n",
       "</pre>\n"
      ],
      "text/plain": [
       "Evaluated \u001b[1;36m4\u001b[0m of \u001b[1;36m10\u001b[0m examples\n"
      ]
     },
     "metadata": {},
     "output_type": "display_data"
    },
    {
     "name": "stdout",
     "output_type": "stream",
     "text": [
      "Soft Drinks ~ soda brands: ['crush', 'sprite', 'mug', 'squirt'] == TraceList(['crush', 'mug', 'sprite', 'squirt'])\n"
     ]
    },
    {
     "data": {
      "text/html": [
       "<pre style=\"white-space:pre;overflow-x:auto;line-height:normal;font-family:Menlo,'DejaVu Sans Mono',consolas,'Courier New',monospace\">Evaluated <span style=\"color: #008080; text-decoration-color: #008080; font-weight: bold\">5</span> of <span style=\"color: #008080; text-decoration-color: #008080; font-weight: bold\">10</span> examples\n",
       "</pre>\n"
      ],
      "text/plain": [
       "Evaluated \u001b[1;36m5\u001b[0m of \u001b[1;36m10\u001b[0m examples\n"
      ]
     },
     "metadata": {},
     "output_type": "display_data"
    },
    {
     "name": "stdout",
     "output_type": "stream",
     "text": [
      "Dances ~ dance fads: ['twist', 'mashed potato', 'dougie', 'macarena'] == TraceList(['dougie', 'macarena', 'mashed potato', 'twist'])\n"
     ]
    },
    {
     "data": {
      "text/html": [
       "<pre style=\"white-space:pre;overflow-x:auto;line-height:normal;font-family:Menlo,'DejaVu Sans Mono',consolas,'Courier New',monospace\">Evaluated <span style=\"color: #008080; text-decoration-color: #008080; font-weight: bold\">6</span> of <span style=\"color: #008080; text-decoration-color: #008080; font-weight: bold\">10</span> examples\n",
       "</pre>\n"
      ],
      "text/plain": [
       "Evaluated \u001b[1;36m6\u001b[0m of \u001b[1;36m10\u001b[0m examples\n"
      ]
     },
     "metadata": {},
     "output_type": "display_data"
    },
    {
     "name": "stdout",
     "output_type": "stream",
     "text": [
      "measurement terms ~ breadth: ['extent', 'scope', 'reach', 'range'] == TraceList(['extent', 'range', 'reach', 'scope'])\n"
     ]
    },
    {
     "data": {
      "text/html": [
       "<pre style=\"white-space:pre;overflow-x:auto;line-height:normal;font-family:Menlo,'DejaVu Sans Mono',consolas,'Courier New',monospace\">Evaluated <span style=\"color: #008080; text-decoration-color: #008080; font-weight: bold\">7</span> of <span style=\"color: #008080; text-decoration-color: #008080; font-weight: bold\">10</span> examples\n",
       "</pre>\n"
      ],
      "text/plain": [
       "Evaluated \u001b[1;36m7\u001b[0m of \u001b[1;36m10\u001b[0m examples\n"
      ]
     },
     "metadata": {},
     "output_type": "display_data"
    },
    {
     "name": "stdout",
     "output_type": "stream",
     "text": [
      "Monopoly game pieces ~ original monopoly tokens: ['thimble', 'top hat', 'boot', 'iron'] == TraceList(['boot', 'iron', 'thimble', 'top hat'])\n"
     ]
    },
    {
     "data": {
      "text/html": [
       "<pre style=\"white-space:pre;overflow-x:auto;line-height:normal;font-family:Menlo,'DejaVu Sans Mono',consolas,'Courier New',monospace\">Evaluated <span style=\"color: #008080; text-decoration-color: #008080; font-weight: bold\">8</span> of <span style=\"color: #008080; text-decoration-color: #008080; font-weight: bold\">10</span> examples\n",
       "</pre>\n"
      ],
      "text/plain": [
       "Evaluated \u001b[1;36m8\u001b[0m of \u001b[1;36m10\u001b[0m examples\n"
      ]
     },
     "metadata": {},
     "output_type": "display_data"
    },
    {
     "name": "stdout",
     "output_type": "stream",
     "text": [
      "Awards ~ awards: ['cup', 'trophy', 'ribbon', 'medal'] == TraceList(['cup', 'medal', 'ribbon', 'trophy'])\n"
     ]
    },
    {
     "data": {
      "text/html": [
       "<pre style=\"white-space:pre;overflow-x:auto;line-height:normal;font-family:Menlo,'DejaVu Sans Mono',consolas,'Courier New',monospace\">Evaluated <span style=\"color: #008080; text-decoration-color: #008080; font-weight: bold\">9</span> of <span style=\"color: #008080; text-decoration-color: #008080; font-weight: bold\">10</span> examples\n",
       "</pre>\n"
      ],
      "text/plain": [
       "Evaluated \u001b[1;36m9\u001b[0m of \u001b[1;36m10\u001b[0m examples\n"
      ]
     },
     "metadata": {},
     "output_type": "display_data"
    },
    {
     "data": {
      "text/html": [
       "<pre style=\"white-space:pre;overflow-x:auto;line-height:normal;font-family:Menlo,'DejaVu Sans Mono',consolas,'Courier New',monospace\">Evaluated <span style=\"color: #008080; text-decoration-color: #008080; font-weight: bold\">10</span> of <span style=\"color: #008080; text-decoration-color: #008080; font-weight: bold\">10</span> examples\n",
       "</pre>\n"
      ],
      "text/plain": [
       "Evaluated \u001b[1;36m10\u001b[0m of \u001b[1;36m10\u001b[0m examples\n"
      ]
     },
     "metadata": {},
     "output_type": "display_data"
    },
    {
     "data": {
      "text/html": [
       "<pre style=\"white-space:pre;overflow-x:auto;line-height:normal;font-family:Menlo,'DejaVu Sans Mono',consolas,'Courier New',monospace\">Evaluation summary\n",
       "<span style=\"font-weight: bold\">{</span>\n",
       "    <span style=\"color: #008000; text-decoration-color: #008000\">'check_solution'</span>: <span style=\"font-weight: bold\">{</span><span style=\"color: #008000; text-decoration-color: #008000\">'match'</span>: <span style=\"font-weight: bold\">{</span><span style=\"color: #008000; text-decoration-color: #008000\">'true_count'</span>: <span style=\"color: #008080; text-decoration-color: #008080; font-weight: bold\">0</span>, <span style=\"color: #008000; text-decoration-color: #008000\">'true_fraction'</span>: <span style=\"color: #008080; text-decoration-color: #008080; font-weight: bold\">0.0</span><span style=\"font-weight: bold\">}</span>, <span style=\"color: #008000; text-decoration-color: #008000\">'accuracy'</span>: <span style=\"font-weight: bold\">{</span><span style=\"color: #008000; text-decoration-color: #008000\">'mean'</span>: <span style=\"color: #008080; text-decoration-color: #008080; font-weight: bold\">0.2</span><span style=\"font-weight: bold\">}}</span>,\n",
       "    <span style=\"color: #008000; text-decoration-color: #008000\">'model_latency'</span>: <span style=\"font-weight: bold\">{</span><span style=\"color: #008000; text-decoration-color: #008000\">'mean'</span>: <span style=\"color: #008080; text-decoration-color: #008080; font-weight: bold\">3.131709885597229</span><span style=\"font-weight: bold\">}</span>\n",
       "<span style=\"font-weight: bold\">}</span>\n",
       "</pre>\n"
      ],
      "text/plain": [
       "Evaluation summary\n",
       "\u001b[1m{\u001b[0m\n",
       "    \u001b[32m'check_solution'\u001b[0m: \u001b[1m{\u001b[0m\u001b[32m'match'\u001b[0m: \u001b[1m{\u001b[0m\u001b[32m'true_count'\u001b[0m: \u001b[1;36m0\u001b[0m, \u001b[32m'true_fraction'\u001b[0m: \u001b[1;36m0.0\u001b[0m\u001b[1m}\u001b[0m, \u001b[32m'accuracy'\u001b[0m: \u001b[1m{\u001b[0m\u001b[32m'mean'\u001b[0m: \u001b[1;36m0.2\u001b[0m\u001b[1m}\u001b[0m\u001b[1m}\u001b[0m,\n",
       "    \u001b[32m'model_latency'\u001b[0m: \u001b[1m{\u001b[0m\u001b[32m'mean'\u001b[0m: \u001b[1;36m3.131709885597229\u001b[0m\u001b[1m}\u001b[0m\n",
       "\u001b[1m}\u001b[0m\n"
      ]
     },
     "metadata": {},
     "output_type": "display_data"
    },
    {
     "name": "stdout",
     "output_type": "stream",
     "text": [
      "🍩 https://wandb.ai/capecape/connections/r/call/924601f4-c88a-425a-9cae-ae81bdab33b1\n"
     ]
    },
    {
     "data": {
      "text/plain": [
       "{'check_solution': {'match': {'true_count': 0, 'true_fraction': 0.0},\n",
       "  'accuracy': {'mean': 0.2}},\n",
       " 'model_latency': {'mean': 3.131709885597229}}"
      ]
     },
     "execution_count": 123,
     "metadata": {},
     "output_type": "execute_result"
    }
   ],
   "source": [
    "await weave_eval.evaluate(Model1(system_prompt=system_prompt, user_prompt=user_prompt))"
   ]
  },
  {
   "cell_type": "markdown",
   "metadata": {},
   "source": [
    "## V1.5"
   ]
  },
  {
   "cell_type": "code",
   "execution_count": 24,
   "metadata": {},
   "outputs": [],
   "source": [
    "system_prompt1_5 = (\n",
    "    \"I want you to solve a daily word puzzle that finds commonalities between words. \"\n",
    "    \"There are 16 words, which form 4 groups of 4 words. Each group has some common theme that links the words. \"\n",
    "    \"You must use each of the 16 words, and use each word only once. Each group of 4 words are linked together in some way. \"\n",
    "    \"The connection between words can be simple. An example of a simple connection would be 'types of fish': Bass, Flounder, Salmon, Trout. \"\n",
    "    \"Categories can also be more complex, and require abstract or lateral thinking. An example of this type of connection would be 'things that start with FIRE': Ant, Drill, Island, Opal. \"\n",
    "    \"The results should be in JSON format as following: {'category1': ['word1', 'word2', 'word3', 'word4'], 'category2': ['word1', 'word2', 'word3', 'word4']}. \"\n",
    "    \"Replace each GROUP NAME with a name for the group you create. Some rules: \"\n",
    "    \"- Give your final answers in the format described above. Put each group on a separate line. \"\n",
    "    \"Do not add any additional text to your final answer, just the group name and the 4 words.\")\n"
   ]
  },
  {
   "cell_type": "code",
   "execution_count": 125,
   "metadata": {},
   "outputs": [
    {
     "data": {
      "text/html": [
       "<pre style=\"white-space:pre;overflow-x:auto;line-height:normal;font-family:Menlo,'DejaVu Sans Mono',consolas,'Courier New',monospace\">Evaluated <span style=\"color: #008080; text-decoration-color: #008080; font-weight: bold\">1</span> of <span style=\"color: #008080; text-decoration-color: #008080; font-weight: bold\">10</span> examples\n",
       "</pre>\n"
      ],
      "text/plain": [
       "Evaluated \u001b[1;36m1\u001b[0m of \u001b[1;36m10\u001b[0m examples\n"
      ]
     },
     "metadata": {},
     "output_type": "display_data"
    },
    {
     "name": "stdout",
     "output_type": "stream",
     "text": [
      "Synonyms for Range ~ breadth: ['extent', 'scope', 'reach', 'range'] == TraceList(['extent', 'range', 'reach', 'scope'])\n"
     ]
    },
    {
     "data": {
      "text/html": [
       "<pre style=\"white-space:pre;overflow-x:auto;line-height:normal;font-family:Menlo,'DejaVu Sans Mono',consolas,'Courier New',monospace\">Evaluated <span style=\"color: #008080; text-decoration-color: #008080; font-weight: bold\">2</span> of <span style=\"color: #008080; text-decoration-color: #008080; font-weight: bold\">10</span> examples\n",
       "</pre>\n"
      ],
      "text/plain": [
       "Evaluated \u001b[1;36m2\u001b[0m of \u001b[1;36m10\u001b[0m examples\n"
      ]
     },
     "metadata": {},
     "output_type": "display_data"
    },
    {
     "name": "stdout",
     "output_type": "stream",
     "text": [
      "awards ~ awards: ['cup', 'trophy', 'ribbon', 'medal'] == TraceList(['cup', 'medal', 'ribbon', 'trophy'])\n"
     ]
    },
    {
     "data": {
      "text/html": [
       "<pre style=\"white-space:pre;overflow-x:auto;line-height:normal;font-family:Menlo,'DejaVu Sans Mono',consolas,'Courier New',monospace\">Evaluated <span style=\"color: #008080; text-decoration-color: #008080; font-weight: bold\">3</span> of <span style=\"color: #008080; text-decoration-color: #008080; font-weight: bold\">10</span> examples\n",
       "</pre>\n"
      ],
      "text/plain": [
       "Evaluated \u001b[1;36m3\u001b[0m of \u001b[1;36m10\u001b[0m examples\n"
      ]
     },
     "metadata": {},
     "output_type": "display_data"
    },
    {
     "data": {
      "text/html": [
       "<pre style=\"white-space:pre;overflow-x:auto;line-height:normal;font-family:Menlo,'DejaVu Sans Mono',consolas,'Courier New',monospace\">Evaluated <span style=\"color: #008080; text-decoration-color: #008080; font-weight: bold\">4</span> of <span style=\"color: #008080; text-decoration-color: #008080; font-weight: bold\">10</span> examples\n",
       "</pre>\n"
      ],
      "text/plain": [
       "Evaluated \u001b[1;36m4\u001b[0m of \u001b[1;36m10\u001b[0m examples\n"
      ]
     },
     "metadata": {},
     "output_type": "display_data"
    },
    {
     "name": "stdout",
     "output_type": "stream",
     "text": [
      "Dances ~ dance fads: ['twist', 'mashed potato', 'dougie', 'macarena'] == TraceList(['dougie', 'macarena', 'mashed potato', 'twist'])\n"
     ]
    },
    {
     "data": {
      "text/html": [
       "<pre style=\"white-space:pre;overflow-x:auto;line-height:normal;font-family:Menlo,'DejaVu Sans Mono',consolas,'Courier New',monospace\">Evaluated <span style=\"color: #008080; text-decoration-color: #008080; font-weight: bold\">5</span> of <span style=\"color: #008080; text-decoration-color: #008080; font-weight: bold\">10</span> examples\n",
       "</pre>\n"
      ],
      "text/plain": [
       "Evaluated \u001b[1;36m5\u001b[0m of \u001b[1;36m10\u001b[0m examples\n"
      ]
     },
     "metadata": {},
     "output_type": "display_data"
    },
    {
     "data": {
      "text/html": [
       "<pre style=\"white-space:pre;overflow-x:auto;line-height:normal;font-family:Menlo,'DejaVu Sans Mono',consolas,'Courier New',monospace\">Evaluated <span style=\"color: #008080; text-decoration-color: #008080; font-weight: bold\">6</span> of <span style=\"color: #008080; text-decoration-color: #008080; font-weight: bold\">10</span> examples\n",
       "</pre>\n"
      ],
      "text/plain": [
       "Evaluated \u001b[1;36m6\u001b[0m of \u001b[1;36m10\u001b[0m examples\n"
      ]
     },
     "metadata": {},
     "output_type": "display_data"
    },
    {
     "name": "stdout",
     "output_type": "stream",
     "text": [
      "Musical Instruments ~ musical sections: ['brass', 'string', 'wind', 'rhythm'] == TraceList(['brass', 'rhythm', 'string', 'wind'])\n"
     ]
    },
    {
     "data": {
      "text/html": [
       "<pre style=\"white-space:pre;overflow-x:auto;line-height:normal;font-family:Menlo,'DejaVu Sans Mono',consolas,'Courier New',monospace\">Evaluated <span style=\"color: #008080; text-decoration-color: #008080; font-weight: bold\">7</span> of <span style=\"color: #008080; text-decoration-color: #008080; font-weight: bold\">10</span> examples\n",
       "</pre>\n"
      ],
      "text/plain": [
       "Evaluated \u001b[1;36m7\u001b[0m of \u001b[1;36m10\u001b[0m examples\n"
      ]
     },
     "metadata": {},
     "output_type": "display_data"
    },
    {
     "name": "stdout",
     "output_type": "stream",
     "text": [
      "Plumbing components ~ conduits for water removal: ['duct', 'pipe', 'drain', 'sewer'] == TraceList(['drain', 'duct', 'pipe', 'sewer'])\n"
     ]
    },
    {
     "data": {
      "text/html": [
       "<pre style=\"white-space:pre;overflow-x:auto;line-height:normal;font-family:Menlo,'DejaVu Sans Mono',consolas,'Courier New',monospace\">Evaluated <span style=\"color: #008080; text-decoration-color: #008080; font-weight: bold\">8</span> of <span style=\"color: #008080; text-decoration-color: #008080; font-weight: bold\">10</span> examples\n",
       "</pre>\n"
      ],
      "text/plain": [
       "Evaluated \u001b[1;36m8\u001b[0m of \u001b[1;36m10\u001b[0m examples\n"
      ]
     },
     "metadata": {},
     "output_type": "display_data"
    },
    {
     "name": "stdout",
     "output_type": "stream",
     "text": [
      "States ~ u.s. mountain states: ['utah', 'arizona', 'nevada', 'colorado'] == TraceList(['arizona', 'colorado', 'nevada', 'utah'])\n",
      "Soft Drinks ~ soda brands: ['sprite', 'crush', 'mug', 'squirt'] == TraceList(['crush', 'mug', 'sprite', 'squirt'])\n"
     ]
    },
    {
     "data": {
      "text/html": [
       "<pre style=\"white-space:pre;overflow-x:auto;line-height:normal;font-family:Menlo,'DejaVu Sans Mono',consolas,'Courier New',monospace\">Evaluated <span style=\"color: #008080; text-decoration-color: #008080; font-weight: bold\">9</span> of <span style=\"color: #008080; text-decoration-color: #008080; font-weight: bold\">10</span> examples\n",
       "</pre>\n"
      ],
      "text/plain": [
       "Evaluated \u001b[1;36m9\u001b[0m of \u001b[1;36m10\u001b[0m examples\n"
      ]
     },
     "metadata": {},
     "output_type": "display_data"
    },
    {
     "name": "stdout",
     "output_type": "stream",
     "text": [
      "Fruits/Vegetables ~ vegetables that are also fruits: ['eggplant', 'cucumber', 'tomato', 'pepper'] == TraceList(['cucumber', 'eggplant', 'pepper', 'tomato'])\n",
      "Shapes ~ 3-d shapes: ['cube', 'cone', 'pyramid', 'sphere'] == TraceList(['cone', 'cube', 'pyramid', 'sphere'])\n"
     ]
    },
    {
     "data": {
      "text/html": [
       "<pre style=\"white-space:pre;overflow-x:auto;line-height:normal;font-family:Menlo,'DejaVu Sans Mono',consolas,'Courier New',monospace\">Evaluated <span style=\"color: #008080; text-decoration-color: #008080; font-weight: bold\">10</span> of <span style=\"color: #008080; text-decoration-color: #008080; font-weight: bold\">10</span> examples\n",
       "</pre>\n"
      ],
      "text/plain": [
       "Evaluated \u001b[1;36m10\u001b[0m of \u001b[1;36m10\u001b[0m examples\n"
      ]
     },
     "metadata": {},
     "output_type": "display_data"
    },
    {
     "data": {
      "text/html": [
       "<pre style=\"white-space:pre;overflow-x:auto;line-height:normal;font-family:Menlo,'DejaVu Sans Mono',consolas,'Courier New',monospace\">Evaluation summary\n",
       "<span style=\"font-weight: bold\">{</span>\n",
       "    <span style=\"color: #008000; text-decoration-color: #008000\">'check_solution'</span>: <span style=\"font-weight: bold\">{</span><span style=\"color: #008000; text-decoration-color: #008000\">'match'</span>: <span style=\"font-weight: bold\">{</span><span style=\"color: #008000; text-decoration-color: #008000\">'true_count'</span>: <span style=\"color: #008080; text-decoration-color: #008080; font-weight: bold\">0</span>, <span style=\"color: #008000; text-decoration-color: #008000\">'true_fraction'</span>: <span style=\"color: #008080; text-decoration-color: #008080; font-weight: bold\">0.0</span><span style=\"font-weight: bold\">}</span>, <span style=\"color: #008000; text-decoration-color: #008000\">'accuracy'</span>: <span style=\"font-weight: bold\">{</span><span style=\"color: #008000; text-decoration-color: #008000\">'mean'</span>: <span style=\"color: #008080; text-decoration-color: #008080; font-weight: bold\">0.225</span><span style=\"font-weight: bold\">}}</span>,\n",
       "    <span style=\"color: #008000; text-decoration-color: #008000\">'model_latency'</span>: <span style=\"font-weight: bold\">{</span><span style=\"color: #008000; text-decoration-color: #008000\">'mean'</span>: <span style=\"color: #008080; text-decoration-color: #008080; font-weight: bold\">1.8168670415878296</span><span style=\"font-weight: bold\">}</span>\n",
       "<span style=\"font-weight: bold\">}</span>\n",
       "</pre>\n"
      ],
      "text/plain": [
       "Evaluation summary\n",
       "\u001b[1m{\u001b[0m\n",
       "    \u001b[32m'check_solution'\u001b[0m: \u001b[1m{\u001b[0m\u001b[32m'match'\u001b[0m: \u001b[1m{\u001b[0m\u001b[32m'true_count'\u001b[0m: \u001b[1;36m0\u001b[0m, \u001b[32m'true_fraction'\u001b[0m: \u001b[1;36m0.0\u001b[0m\u001b[1m}\u001b[0m, \u001b[32m'accuracy'\u001b[0m: \u001b[1m{\u001b[0m\u001b[32m'mean'\u001b[0m: \u001b[1;36m0.225\u001b[0m\u001b[1m}\u001b[0m\u001b[1m}\u001b[0m,\n",
       "    \u001b[32m'model_latency'\u001b[0m: \u001b[1m{\u001b[0m\u001b[32m'mean'\u001b[0m: \u001b[1;36m1.8168670415878296\u001b[0m\u001b[1m}\u001b[0m\n",
       "\u001b[1m}\u001b[0m\n"
      ]
     },
     "metadata": {},
     "output_type": "display_data"
    },
    {
     "name": "stdout",
     "output_type": "stream",
     "text": [
      "🍩 https://wandb.ai/capecape/connections/r/call/f832268c-547a-444b-9f13-5753ae53806f\n"
     ]
    },
    {
     "data": {
      "text/plain": [
       "{'check_solution': {'match': {'true_count': 0, 'true_fraction': 0.0},\n",
       "  'accuracy': {'mean': 0.225}},\n",
       " 'model_latency': {'mean': 1.8168670415878296}}"
      ]
     },
     "execution_count": 125,
     "metadata": {},
     "output_type": "execute_result"
    }
   ],
   "source": [
    "model1_5 = Model1(system_prompt=system_prompt1_5, user_prompt=user_prompt)\n",
    "await weave_eval.evaluate(model1_5)"
   ]
  },
  {
   "cell_type": "markdown",
   "metadata": {},
   "source": [
    "## V2"
   ]
  },
  {
   "cell_type": "markdown",
   "metadata": {},
   "source": [
    "Let's call the model twice"
   ]
  },
  {
   "cell_type": "code",
   "execution_count": 16,
   "metadata": {},
   "outputs": [],
   "source": [
    "class Model2(weave.Model):\n",
    "    system_prompt: str\n",
    "    user_prompt: str\n",
    "    max_retries: int = 4\n",
    "\n",
    "    @weave.op()\n",
    "    def create_incorrect_prompt(self, words, solutions, accuracy, correct):\n",
    "        incorrect_prompt = (\n",
    "            f\"You recently tried solving the puzzle with the following words: \\n {words}\\n\"\n",
    "            \"You produced the following solutions that are incorrect: \\n\"\n",
    "            \"\\n\".join(str(solutions))\n",
    "        )\n",
    "        if accuracy>0.:\n",
    "            incorrect_prompt += (\n",
    "                f\"\\nYou had {4*accuracy} categories correct\"\n",
    "                f\"\\nThe correct guesses where: \\n {correct}\"\n",
    "            )\n",
    "\n",
    "        incorrect_prompt+=(\n",
    "            \"\\nTake this into account, and try to generate a correct solution this time. \"\n",
    "            \"\\nMake sure you don't repeat any previous guesses\"\n",
    "        )\n",
    "        return incorrect_prompt\n",
    "\n",
    "    @weave.op()\n",
    "    def predict(self, words, categories):\n",
    "        retries = 0\n",
    "        previous_generations = []\n",
    "        generation = generate_solution(self.system_prompt, self.user_prompt.format(words=words))\n",
    "        scores = check_solution(categories, generation)\n",
    "        if scores[\"match\"]:\n",
    "            return generation\n",
    "        else:\n",
    "            while (retries < self.max_retries and not scores[\"match\"]):\n",
    "                previous_generations.append(generation)\n",
    "                retries+=1\n",
    "                print(f\"Retry {retries}\")\n",
    "                generation = generate_solution(\n",
    "                    self.system_prompt, \n",
    "                    self.create_incorrect_prompt(words, previous_generations, scores[\"accuracy\"], scores[\"correct\"]))\n",
    "                scores = check_solution(categories, generation)\n",
    "        return generation\n"
   ]
  },
  {
   "cell_type": "code",
   "execution_count": 19,
   "metadata": {},
   "outputs": [
    {
     "name": "stdout",
     "output_type": "stream",
     "text": [
      "Decay or Spoilage ~ go bad: ['sour', 'rot', 'spoil', 'turn'] == TraceList(['rot', 'sour', 'spoil', 'turn'])\n",
      "Retry 1\n",
      "Rewards ~ awards: ['trophy', 'medal', 'ribbon', 'cup'] == TraceList(['cup', 'medal', 'ribbon', 'trophy'])\n",
      "Retry 1\n",
      "category3 ~ conduits for water removal: ['duct', 'pipe', 'drain', 'sewer'] == TraceList(['drain', 'duct', 'pipe', 'sewer'])\n",
      "Retry 1\n",
      "Monopoly game pieces ~ original monopoly tokens: ['thimble', 'top hat', 'boot', 'iron'] == TraceList(['boot', 'iron', 'thimble', 'top hat'])\n",
      "Retry 1\n",
      "Vegetables ~ vegetables that are also fruits: ['eggplant', 'cucumber', 'tomato', 'pepper'] == TraceList(['cucumber', 'eggplant', 'pepper', 'tomato'])\n",
      "Shapes ~ 3-d shapes: ['cube', 'cone', 'pyramid', 'sphere'] == TraceList(['cone', 'cube', 'pyramid', 'sphere'])\n",
      "Retry 1\n",
      "Retry 1\n",
      "measurement_terms ~ breadth: ['extent', 'range', 'scope', 'reach'] == TraceList(['extent', 'range', 'reach', 'scope'])\n",
      "Retry 1\n",
      "Retry 1\n",
      "US States ~ u.s. mountain states: ['utah', 'arizona', 'nevada', 'colorado'] == TraceList(['arizona', 'colorado', 'nevada', 'utah'])\n",
      "Sodas ~ soda brands: ['crush', 'sprite', 'mug', 'squirt'] == TraceList(['crush', 'mug', 'sprite', 'squirt'])\n",
      "Bands ~ classic rock bands: ['rush', 'yes', 'genesis', 'kansas'] == TraceList(['genesis', 'kansas', 'rush', 'yes'])\n",
      "TV Characters ~ tony ___: ['hawk', 'soprano', 'stark', 'montana'] == TraceList(['hawk', 'montana', 'soprano', 'stark'])\n",
      "US States ~ u.s. mountain states: ['utah', 'arizona', 'nevada', 'colorado'] == TraceList(['arizona', 'colorado', 'nevada', 'utah'])\n",
      "Sodas ~ soda brands: ['crush', 'sprite', 'mug', 'squirt'] == TraceList(['crush', 'mug', 'sprite', 'squirt'])\n",
      "Bands ~ classic rock bands: ['rush', 'yes', 'genesis', 'kansas'] == TraceList(['genesis', 'kansas', 'rush', 'yes'])\n",
      "TV Characters ~ tony ___: ['hawk', 'soprano', 'stark', 'montana'] == TraceList(['hawk', 'montana', 'soprano', 'stark'])\n"
     ]
    },
    {
     "data": {
      "text/html": [
       "<pre style=\"white-space:pre;overflow-x:auto;line-height:normal;font-family:Menlo,'DejaVu Sans Mono',consolas,'Courier New',monospace\">Evaluated <span style=\"color: #008080; text-decoration-color: #008080; font-weight: bold\">1</span> of <span style=\"color: #008080; text-decoration-color: #008080; font-weight: bold\">10</span> examples\n",
       "</pre>\n"
      ],
      "text/plain": [
       "Evaluated \u001b[1;36m1\u001b[0m of \u001b[1;36m10\u001b[0m examples\n"
      ]
     },
     "metadata": {},
     "output_type": "display_data"
    },
    {
     "name": "stdout",
     "output_type": "stream",
     "text": [
      "Dances ~ dance fads: ['twist', 'mashed potato', 'dougie', 'macarena'] == TraceList(['dougie', 'macarena', 'mashed potato', 'twist'])\n",
      "Retry 1\n",
      "Rewards ~ awards: ['trophy', 'medal', 'ribbon', 'cup'] == TraceList(['cup', 'medal', 'ribbon', 'trophy'])\n",
      "Retry 2\n",
      "category3 ~ conduits for water removal: ['duct', 'pipe', 'drain', 'sewer'] == TraceList(['drain', 'duct', 'pipe', 'sewer'])\n",
      "Retry 2\n",
      "Vegetables ~ vegetables that are also fruits: ['eggplant', 'cucumber', 'tomato', 'pepper'] == TraceList(['cucumber', 'eggplant', 'pepper', 'tomato'])\n",
      "Shapes ~ 3-d shapes: ['cube', 'cone', 'pyramid', 'sphere'] == TraceList(['cone', 'cube', 'pyramid', 'sphere'])\n",
      "Retry 2\n",
      "Monopoly game pieces ~ original monopoly tokens: ['thimble', 'top hat', 'boot', 'iron'] == TraceList(['boot', 'iron', 'thimble', 'top hat'])\n",
      "Retry 2\n",
      "Retry 2\n",
      "measurement_terms ~ breadth: ['extent', 'range', 'scope', 'reach'] == TraceList(['extent', 'range', 'reach', 'scope'])\n",
      "Retry 2\n",
      "Retry 2\n",
      "Dances ~ dance fads: ['twist', 'mashed potato', 'dougie', 'macarena'] == TraceList(['dougie', 'macarena', 'mashed potato', 'twist'])\n",
      "Retry 2\n",
      "Decay or Spoilage ~ go bad: ['sour', 'rot', 'spoil', 'turn'] == TraceList(['rot', 'sour', 'spoil', 'turn'])\n",
      "Retry 2\n",
      "Rewards ~ awards: ['trophy', 'medal', 'ribbon', 'cup'] == TraceList(['cup', 'medal', 'ribbon', 'trophy'])\n",
      "Retry 3\n",
      "Vegetables ~ vegetables that are also fruits: ['eggplant', 'cucumber', 'tomato', 'pepper'] == TraceList(['cucumber', 'eggplant', 'pepper', 'tomato'])\n",
      "Shapes ~ 3-d shapes: ['cube', 'cone', 'pyramid', 'sphere'] == TraceList(['cone', 'cube', 'pyramid', 'sphere'])\n",
      "Retry 3\n",
      "Retry 3\n",
      "Monopoly game pieces ~ original monopoly tokens: ['thimble', 'top hat', 'boot', 'iron'] == TraceList(['boot', 'iron', 'thimble', 'top hat'])\n",
      "Retry 3\n",
      "category1 ~ breadth: ['extent', 'range', 'scope', 'reach'] == TraceList(['extent', 'range', 'reach', 'scope'])\n",
      "Retry 3\n",
      "Decay or Spoilage ~ go bad: ['sour', 'rot', 'spoil', 'turn'] == TraceList(['rot', 'sour', 'spoil', 'turn'])\n",
      "Retry 3\n",
      "music ~ musical sections: ['brass', 'string', 'wind', 'rhythm'] == TraceList(['brass', 'rhythm', 'string', 'wind'])\n",
      "Retry 3\n",
      "Body Parts ~ muscles, informally: ['pec', 'lat', 'quad', 'tri'] == TraceList(['lat', 'pec', 'quad', 'tri'])\n",
      "Rewards ~ awards: ['trophy', 'medal', 'ribbon', 'cup'] == TraceList(['cup', 'medal', 'ribbon', 'trophy'])\n",
      "Retry 4\n",
      "Boy Bands ~ 60’s band members: ['monkee', 'beach boy', 'byrd', 'beatle'] == TraceList(['beach boy', 'beatle', 'byrd', 'monkee'])\n",
      "Dances ~ dance fads: ['twist', 'mashed potato', 'dougie', 'macarena'] == TraceList(['dougie', 'macarena', 'mashed potato', 'twist'])\n",
      "Music Magazines ~ magazines: ['wired', 'rolling stone', 'vogue', 'fortune'] == TraceList(['fortune', 'rolling stone', 'vogue', 'wired'])\n",
      "Breakfast Items ~ things with links: ['sausage', 'chain', 'golf course', 'website'] == TraceList(['chain', 'golf course', 'sausage', 'website'])\n",
      "Boy Bands ~ 60’s band members: ['monkee', 'beach boy', 'byrd', 'beatle'] == TraceList(['beach boy', 'beatle', 'byrd', 'monkee'])\n",
      "Dances ~ dance fads: ['twist', 'mashed potato', 'dougie', 'macarena'] == TraceList(['dougie', 'macarena', 'mashed potato', 'twist'])\n",
      "Music Magazines ~ magazines: ['wired', 'rolling stone', 'vogue', 'fortune'] == TraceList(['fortune', 'rolling stone', 'vogue', 'wired'])\n",
      "Breakfast Items ~ things with links: ['sausage', 'chain', 'golf course', 'website'] == TraceList(['chain', 'golf course', 'sausage', 'website'])\n"
     ]
    },
    {
     "data": {
      "text/html": [
       "<pre style=\"white-space:pre;overflow-x:auto;line-height:normal;font-family:Menlo,'DejaVu Sans Mono',consolas,'Courier New',monospace\">Evaluated <span style=\"color: #008080; text-decoration-color: #008080; font-weight: bold\">2</span> of <span style=\"color: #008080; text-decoration-color: #008080; font-weight: bold\">10</span> examples\n",
       "</pre>\n"
      ],
      "text/plain": [
       "Evaluated \u001b[1;36m2\u001b[0m of \u001b[1;36m10\u001b[0m examples\n"
      ]
     },
     "metadata": {},
     "output_type": "display_data"
    },
    {
     "name": "stdout",
     "output_type": "stream",
     "text": [
      "category3 ~ conduits for water removal: ['duct', 'pipe', 'drain', 'sewer'] == TraceList(['drain', 'duct', 'pipe', 'sewer'])\n",
      "Retry 3\n",
      "Retry 4\n",
      "Monopoly game pieces ~ original monopoly tokens: ['thimble', 'top hat', 'boot', 'iron'] == TraceList(['boot', 'iron', 'thimble', 'top hat'])\n",
      "Retry 4\n",
      "category1 ~ breadth: ['extent', 'range', 'scope', 'reach'] == TraceList(['extent', 'range', 'reach', 'scope'])\n",
      "Retry 4\n",
      "music ~ musical sections: ['brass', 'string', 'wind', 'rhythm'] == TraceList(['brass', 'rhythm', 'string', 'wind'])\n",
      "Retry 4\n",
      "Body Parts ~ muscles, informally: ['pec', 'lat', 'quad', 'tri'] == TraceList(['lat', 'pec', 'quad', 'tri'])\n",
      "Rewards ~ awards: ['trophy', 'medal', 'ribbon', 'cup'] == TraceList(['cup', 'medal', 'ribbon', 'trophy'])\n",
      "Body Parts ~ muscles, informally: ['pec', 'lat', 'quad', 'tri'] == TraceList(['lat', 'pec', 'quad', 'tri'])\n",
      "Rewards ~ awards: ['trophy', 'medal', 'ribbon', 'cup'] == TraceList(['cup', 'medal', 'ribbon', 'trophy'])\n"
     ]
    },
    {
     "data": {
      "text/html": [
       "<pre style=\"white-space:pre;overflow-x:auto;line-height:normal;font-family:Menlo,'DejaVu Sans Mono',consolas,'Courier New',monospace\">Evaluated <span style=\"color: #008080; text-decoration-color: #008080; font-weight: bold\">3</span> of <span style=\"color: #008080; text-decoration-color: #008080; font-weight: bold\">10</span> examples\n",
       "</pre>\n"
      ],
      "text/plain": [
       "Evaluated \u001b[1;36m3\u001b[0m of \u001b[1;36m10\u001b[0m examples\n"
      ]
     },
     "metadata": {},
     "output_type": "display_data"
    },
    {
     "name": "stdout",
     "output_type": "stream",
     "text": [
      "Retry 4\n",
      "Decay or Spoilage ~ go bad: ['sour', 'rot', 'spoil', 'turn'] == TraceList(['rot', 'sour', 'spoil', 'turn'])\n",
      "Retry 4\n",
      "category3 ~ conduits for water removal: ['duct', 'pipe', 'drain', 'sewer'] == TraceList(['drain', 'duct', 'pipe', 'sewer'])\n",
      "Retry 4\n",
      "Vegetables ~ vegetables that are also fruits: ['eggplant', 'cucumber', 'tomato', 'pepper'] == TraceList(['cucumber', 'eggplant', 'pepper', 'tomato'])\n",
      "Shapes ~ 3-d shapes: ['cube', 'cone', 'pyramid', 'sphere'] == TraceList(['cone', 'cube', 'pyramid', 'sphere'])\n",
      "Vegetables ~ vegetables that are also fruits: ['eggplant', 'cucumber', 'tomato', 'pepper'] == TraceList(['cucumber', 'eggplant', 'pepper', 'tomato'])\n",
      "Shapes ~ 3-d shapes: ['cube', 'cone', 'pyramid', 'sphere'] == TraceList(['cone', 'cube', 'pyramid', 'sphere'])\n"
     ]
    },
    {
     "data": {
      "text/html": [
       "<pre style=\"white-space:pre;overflow-x:auto;line-height:normal;font-family:Menlo,'DejaVu Sans Mono',consolas,'Courier New',monospace\">Evaluated <span style=\"color: #008080; text-decoration-color: #008080; font-weight: bold\">4</span> of <span style=\"color: #008080; text-decoration-color: #008080; font-weight: bold\">10</span> examples\n",
       "</pre>\n"
      ],
      "text/plain": [
       "Evaluated \u001b[1;36m4\u001b[0m of \u001b[1;36m10\u001b[0m examples\n"
      ]
     },
     "metadata": {},
     "output_type": "display_data"
    },
    {
     "name": "stdout",
     "output_type": "stream",
     "text": [
      "Monopoly game pieces ~ original monopoly tokens: ['thimble', 'top hat', 'boot', 'iron'] == TraceList(['boot', 'iron', 'thimble', 'top hat'])\n",
      "Monopoly game pieces ~ original monopoly tokens: ['thimble', 'top hat', 'boot', 'iron'] == TraceList(['boot', 'iron', 'thimble', 'top hat'])\n"
     ]
    },
    {
     "data": {
      "text/html": [
       "<pre style=\"white-space:pre;overflow-x:auto;line-height:normal;font-family:Menlo,'DejaVu Sans Mono',consolas,'Courier New',monospace\">Evaluated <span style=\"color: #008080; text-decoration-color: #008080; font-weight: bold\">5</span> of <span style=\"color: #008080; text-decoration-color: #008080; font-weight: bold\">10</span> examples\n",
       "</pre>\n"
      ],
      "text/plain": [
       "Evaluated \u001b[1;36m5\u001b[0m of \u001b[1;36m10\u001b[0m examples\n"
      ]
     },
     "metadata": {},
     "output_type": "display_data"
    },
    {
     "name": "stdout",
     "output_type": "stream",
     "text": [
      "category1 ~ breadth: ['extent', 'range', 'scope', 'reach'] == TraceList(['extent', 'range', 'reach', 'scope'])\n",
      "category3 ~ heraldry terms: ['shield', 'coat', 'arms', 'crest'] == TraceList(['arms', 'coat', 'crest', 'shield'])\n",
      "category1 ~ breadth: ['extent', 'range', 'scope', 'reach'] == TraceList(['extent', 'range', 'reach', 'scope'])\n",
      "category3 ~ heraldry terms: ['shield', 'coat', 'arms', 'crest'] == TraceList(['arms', 'coat', 'crest', 'shield'])\n"
     ]
    },
    {
     "data": {
      "text/html": [
       "<pre style=\"white-space:pre;overflow-x:auto;line-height:normal;font-family:Menlo,'DejaVu Sans Mono',consolas,'Courier New',monospace\">Evaluated <span style=\"color: #008080; text-decoration-color: #008080; font-weight: bold\">6</span> of <span style=\"color: #008080; text-decoration-color: #008080; font-weight: bold\">10</span> examples\n",
       "</pre>\n"
      ],
      "text/plain": [
       "Evaluated \u001b[1;36m6\u001b[0m of \u001b[1;36m10\u001b[0m examples\n"
      ]
     },
     "metadata": {},
     "output_type": "display_data"
    },
    {
     "name": "stdout",
     "output_type": "stream",
     "text": [
      "music ~ musical sections: ['brass', 'string', 'wind', 'rhythm'] == TraceList(['brass', 'rhythm', 'string', 'wind'])\n",
      "music ~ musical sections: ['brass', 'string', 'wind', 'rhythm'] == TraceList(['brass', 'rhythm', 'string', 'wind'])\n"
     ]
    },
    {
     "data": {
      "text/html": [
       "<pre style=\"white-space:pre;overflow-x:auto;line-height:normal;font-family:Menlo,'DejaVu Sans Mono',consolas,'Courier New',monospace\">Evaluated <span style=\"color: #008080; text-decoration-color: #008080; font-weight: bold\">7</span> of <span style=\"color: #008080; text-decoration-color: #008080; font-weight: bold\">10</span> examples\n",
       "</pre>\n"
      ],
      "text/plain": [
       "Evaluated \u001b[1;36m7\u001b[0m of \u001b[1;36m10\u001b[0m examples\n"
      ]
     },
     "metadata": {},
     "output_type": "display_data"
    },
    {
     "name": "stdout",
     "output_type": "stream",
     "text": [
      "Decay or Spoilage ~ go bad: ['sour', 'rot', 'spoil', 'turn'] == TraceList(['rot', 'sour', 'spoil', 'turn'])\n",
      "Decay or Spoilage ~ go bad: ['sour', 'rot', 'spoil', 'turn'] == TraceList(['rot', 'sour', 'spoil', 'turn'])\n"
     ]
    },
    {
     "data": {
      "text/html": [
       "<pre style=\"white-space:pre;overflow-x:auto;line-height:normal;font-family:Menlo,'DejaVu Sans Mono',consolas,'Courier New',monospace\">Evaluated <span style=\"color: #008080; text-decoration-color: #008080; font-weight: bold\">8</span> of <span style=\"color: #008080; text-decoration-color: #008080; font-weight: bold\">10</span> examples\n",
       "</pre>\n"
      ],
      "text/plain": [
       "Evaluated \u001b[1;36m8\u001b[0m of \u001b[1;36m10\u001b[0m examples\n"
      ]
     },
     "metadata": {},
     "output_type": "display_data"
    },
    {
     "data": {
      "text/html": [
       "<pre style=\"white-space:pre;overflow-x:auto;line-height:normal;font-family:Menlo,'DejaVu Sans Mono',consolas,'Courier New',monospace\">Evaluated <span style=\"color: #008080; text-decoration-color: #008080; font-weight: bold\">9</span> of <span style=\"color: #008080; text-decoration-color: #008080; font-weight: bold\">10</span> examples\n",
       "</pre>\n"
      ],
      "text/plain": [
       "Evaluated \u001b[1;36m9\u001b[0m of \u001b[1;36m10\u001b[0m examples\n"
      ]
     },
     "metadata": {},
     "output_type": "display_data"
    },
    {
     "name": "stdout",
     "output_type": "stream",
     "text": [
      "category3 ~ conduits for water removal: ['duct', 'pipe', 'drain', 'sewer'] == TraceList(['drain', 'duct', 'pipe', 'sewer'])\n",
      "category3 ~ conduits for water removal: ['duct', 'pipe', 'drain', 'sewer'] == TraceList(['drain', 'duct', 'pipe', 'sewer'])\n"
     ]
    },
    {
     "data": {
      "text/html": [
       "<pre style=\"white-space:pre;overflow-x:auto;line-height:normal;font-family:Menlo,'DejaVu Sans Mono',consolas,'Courier New',monospace\">Evaluated <span style=\"color: #008080; text-decoration-color: #008080; font-weight: bold\">10</span> of <span style=\"color: #008080; text-decoration-color: #008080; font-weight: bold\">10</span> examples\n",
       "</pre>\n"
      ],
      "text/plain": [
       "Evaluated \u001b[1;36m10\u001b[0m of \u001b[1;36m10\u001b[0m examples\n"
      ]
     },
     "metadata": {},
     "output_type": "display_data"
    },
    {
     "data": {
      "text/html": [
       "<pre style=\"white-space:pre;overflow-x:auto;line-height:normal;font-family:Menlo,'DejaVu Sans Mono',consolas,'Courier New',monospace\">Evaluation summary\n",
       "<span style=\"font-weight: bold\">{</span>\n",
       "    <span style=\"color: #008000; text-decoration-color: #008000\">'check_solution'</span>: <span style=\"font-weight: bold\">{</span><span style=\"color: #008000; text-decoration-color: #008000\">'match'</span>: <span style=\"font-weight: bold\">{</span><span style=\"color: #008000; text-decoration-color: #008000\">'true_count'</span>: <span style=\"color: #008080; text-decoration-color: #008080; font-weight: bold\">2</span>, <span style=\"color: #008000; text-decoration-color: #008000\">'true_fraction'</span>: <span style=\"color: #008080; text-decoration-color: #008080; font-weight: bold\">0.2</span><span style=\"font-weight: bold\">}</span>, <span style=\"color: #008000; text-decoration-color: #008000\">'accuracy'</span>: <span style=\"font-weight: bold\">{</span><span style=\"color: #008000; text-decoration-color: #008000\">'mean'</span>: <span style=\"color: #008080; text-decoration-color: #008080; font-weight: bold\">0.45</span><span style=\"font-weight: bold\">}}</span>,\n",
       "    <span style=\"color: #008000; text-decoration-color: #008000\">'model_latency'</span>: <span style=\"font-weight: bold\">{</span><span style=\"color: #008000; text-decoration-color: #008000\">'mean'</span>: <span style=\"color: #008080; text-decoration-color: #008080; font-weight: bold\">18.96248745918274</span><span style=\"font-weight: bold\">}</span>\n",
       "<span style=\"font-weight: bold\">}</span>\n",
       "</pre>\n"
      ],
      "text/plain": [
       "Evaluation summary\n",
       "\u001b[1m{\u001b[0m\n",
       "    \u001b[32m'check_solution'\u001b[0m: \u001b[1m{\u001b[0m\u001b[32m'match'\u001b[0m: \u001b[1m{\u001b[0m\u001b[32m'true_count'\u001b[0m: \u001b[1;36m2\u001b[0m, \u001b[32m'true_fraction'\u001b[0m: \u001b[1;36m0.2\u001b[0m\u001b[1m}\u001b[0m, \u001b[32m'accuracy'\u001b[0m: \u001b[1m{\u001b[0m\u001b[32m'mean'\u001b[0m: \u001b[1;36m0.45\u001b[0m\u001b[1m}\u001b[0m\u001b[1m}\u001b[0m,\n",
       "    \u001b[32m'model_latency'\u001b[0m: \u001b[1m{\u001b[0m\u001b[32m'mean'\u001b[0m: \u001b[1;36m18.96248745918274\u001b[0m\u001b[1m}\u001b[0m\n",
       "\u001b[1m}\u001b[0m\n"
      ]
     },
     "metadata": {},
     "output_type": "display_data"
    },
    {
     "name": "stdout",
     "output_type": "stream",
     "text": [
      "🍩 https://wandb.ai/capecape/connections/r/call/1e011f37-61c2-4e79-b0e5-acbae1937380\n"
     ]
    },
    {
     "data": {
      "text/plain": [
       "{'check_solution': {'match': {'true_count': 2, 'true_fraction': 0.2},\n",
       "  'accuracy': {'mean': 0.45}},\n",
       " 'model_latency': {'mean': 18.96248745918274}}"
      ]
     },
     "execution_count": 19,
     "metadata": {},
     "output_type": "execute_result"
    }
   ],
   "source": [
    "weave_model2 = Model2(system_prompt=system_prompt, user_prompt=user_prompt)\n",
    "\n",
    "await weave_eval.evaluate(weave_model2)"
   ]
  },
  {
   "cell_type": "code",
   "execution_count": 22,
   "metadata": {},
   "outputs": [
    {
     "name": "stdout",
     "output_type": "stream",
     "text": [
      "Retry 1\n",
      "Vegetables ~ vegetables that are also fruits: ['eggplant', 'cucumber', 'tomato', 'pepper'] == TraceList(['cucumber', 'eggplant', 'pepper', 'tomato'])\n",
      "Shapes ~ 3-d shapes: ['cube', 'cone', 'pyramid', 'sphere'] == TraceList(['cone', 'cube', 'pyramid', 'sphere'])\n",
      "Retry 1\n",
      "Retry 1\n",
      "Dances ~ dance fads: ['twist', 'mashed potato', 'dougie', 'macarena'] == TraceList(['dougie', 'macarena', 'mashed potato', 'twist'])\n",
      "Magazines ~ magazines: ['wired', 'vogue', 'fortune', 'rolling stone'] == TraceList(['fortune', 'rolling stone', 'vogue', 'wired'])\n",
      "Chains ~ things with links: ['chain', 'sausage', 'website', 'golf course'] == TraceList(['chain', 'golf course', 'sausage', 'website'])\n",
      "Retry 1\n",
      "Types of Awards ~ awards: ['trophy', 'cup', 'ribbon', 'medal'] == TraceList(['cup', 'medal', 'ribbon', 'trophy'])\n",
      "Retry 1\n",
      "Soda Brands ~ soda brands: ['crush', 'sprite', 'mug', 'squirt'] == TraceList(['crush', 'mug', 'sprite', 'squirt'])\n",
      "Retry 1\n",
      "Retry 1\n",
      "Retry 1\n",
      "Measurements ~ breadth: ['extent', 'scope', 'reach', 'range'] == TraceList(['extent', 'range', 'reach', 'scope'])\n",
      "Retry 1\n",
      "Retry 1\n",
      "Monopoly pieces ~ original monopoly tokens: ['thimble', 'top hat', 'boot', 'iron'] == TraceList(['boot', 'iron', 'thimble', 'top hat'])\n",
      "Retry 2\n",
      "Types of Awards ~ awards: ['trophy', 'cup', 'ribbon', 'medal'] == TraceList(['cup', 'medal', 'ribbon', 'trophy'])\n",
      "Retry 2\n",
      "Measurements ~ breadth: ['extent', 'scope', 'reach', 'range'] == TraceList(['extent', 'range', 'reach', 'scope'])\n",
      "Armor ~ heraldry terms: ['shield', 'coat', 'crest', 'arms'] == TraceList(['arms', 'coat', 'crest', 'shield'])\n",
      "Retry 2\n",
      "Vegetables ~ vegetables that are also fruits: ['eggplant', 'cucumber', 'tomato', 'pepper'] == TraceList(['cucumber', 'eggplant', 'pepper', 'tomato'])\n",
      "Shapes ~ 3-d shapes: ['cube', 'cone', 'pyramid', 'sphere'] == TraceList(['cone', 'cube', 'pyramid', 'sphere'])\n",
      "Apple Products ~ words with “i”: ['pad', 'mac', 'pod', 'phone'] == TraceList(['mac', 'pad', 'phone', 'pod'])\n",
      "NATO Phonetic Alphabet ~ words with two pronunciations: ['lima', 'job', 'mobile', 'polish'] == TraceList(['job', 'lima', 'mobile', 'polish'])\n",
      "Vegetables ~ vegetables that are also fruits: ['eggplant', 'cucumber', 'tomato', 'pepper'] == TraceList(['cucumber', 'eggplant', 'pepper', 'tomato'])\n",
      "Shapes ~ 3-d shapes: ['cube', 'cone', 'pyramid', 'sphere'] == TraceList(['cone', 'cube', 'pyramid', 'sphere'])\n",
      "Apple Products ~ words with “i”: ['pad', 'mac', 'pod', 'phone'] == TraceList(['mac', 'pad', 'phone', 'pod'])\n",
      "NATO Phonetic Alphabet ~ words with two pronunciations: ['lima', 'job', 'mobile', 'polish'] == TraceList(['job', 'lima', 'mobile', 'polish'])\n"
     ]
    },
    {
     "data": {
      "text/html": [
       "<pre style=\"white-space:pre;overflow-x:auto;line-height:normal;font-family:Menlo,'DejaVu Sans Mono',consolas,'Courier New',monospace\">Evaluated <span style=\"color: #008080; text-decoration-color: #008080; font-weight: bold\">1</span> of <span style=\"color: #008080; text-decoration-color: #008080; font-weight: bold\">10</span> examples\n",
       "</pre>\n"
      ],
      "text/plain": [
       "Evaluated \u001b[1;36m1\u001b[0m of \u001b[1;36m10\u001b[0m examples\n"
      ]
     },
     "metadata": {},
     "output_type": "display_data"
    },
    {
     "name": "stdout",
     "output_type": "stream",
     "text": [
      "Retry 2\n",
      "Retry 2\n",
      "Objects that Make Sound ~ hit hard: ['bang', 'slam', 'hammer', 'pound'] == TraceList(['bang', 'hammer', 'pound', 'slam'])\n",
      "Retry 2\n",
      "Bands ~ 60’s band members: ['monkee', 'beach boy', 'byrd', 'beatle'] == TraceList(['beach boy', 'beatle', 'byrd', 'monkee'])\n",
      "Dances ~ dance fads: ['twist', 'mashed potato', 'dougie', 'macarena'] == TraceList(['dougie', 'macarena', 'mashed potato', 'twist'])\n",
      "Magazines ~ magazines: ['wired', 'vogue', 'fortune', 'rolling stone'] == TraceList(['fortune', 'rolling stone', 'vogue', 'wired'])\n",
      "Chains ~ things with links: ['chain', 'sausage', 'website', 'golf course'] == TraceList(['chain', 'golf course', 'sausage', 'website'])\n",
      "Bands ~ 60’s band members: ['monkee', 'beach boy', 'byrd', 'beatle'] == TraceList(['beach boy', 'beatle', 'byrd', 'monkee'])\n",
      "Dances ~ dance fads: ['twist', 'mashed potato', 'dougie', 'macarena'] == TraceList(['dougie', 'macarena', 'mashed potato', 'twist'])\n",
      "Magazines ~ magazines: ['wired', 'vogue', 'fortune', 'rolling stone'] == TraceList(['fortune', 'rolling stone', 'vogue', 'wired'])\n",
      "Chains ~ things with links: ['chain', 'sausage', 'website', 'golf course'] == TraceList(['chain', 'golf course', 'sausage', 'website'])\n"
     ]
    },
    {
     "data": {
      "text/html": [
       "<pre style=\"white-space:pre;overflow-x:auto;line-height:normal;font-family:Menlo,'DejaVu Sans Mono',consolas,'Courier New',monospace\">Evaluated <span style=\"color: #008080; text-decoration-color: #008080; font-weight: bold\">2</span> of <span style=\"color: #008080; text-decoration-color: #008080; font-weight: bold\">10</span> examples\n",
       "</pre>\n"
      ],
      "text/plain": [
       "Evaluated \u001b[1;36m2\u001b[0m of \u001b[1;36m10\u001b[0m examples\n"
      ]
     },
     "metadata": {},
     "output_type": "display_data"
    },
    {
     "name": "stdout",
     "output_type": "stream",
     "text": [
      "Retry 2\n",
      "Soda Brands ~ soda brands: ['crush', 'sprite', 'mug', 'squirt'] == TraceList(['crush', 'mug', 'sprite', 'squirt'])\n",
      "Retry 2\n",
      "Retry 3\n",
      "Monopoly pieces ~ original monopoly tokens: ['thimble', 'top hat', 'boot', 'iron'] == TraceList(['boot', 'iron', 'thimble', 'top hat'])\n",
      "Retry 3\n",
      "Retry 3\n",
      "Soda Brands ~ soda brands: ['crush', 'sprite', 'mug', 'squirt'] == TraceList(['crush', 'mug', 'sprite', 'squirt'])\n",
      "Retry 3\n",
      "Objects that Make Sound ~ hit hard: ['bang', 'slam', 'hammer', 'pound'] == TraceList(['bang', 'hammer', 'pound', 'slam'])\n",
      "Retry 3\n",
      "Retry 3\n",
      "Types of Awards ~ awards: ['trophy', 'cup', 'ribbon', 'medal'] == TraceList(['cup', 'medal', 'ribbon', 'trophy'])\n",
      "Retry 3\n",
      "Measurements ~ breadth: ['extent', 'scope', 'reach', 'range'] == TraceList(['extent', 'range', 'reach', 'scope'])\n",
      "Armor ~ heraldry terms: ['shield', 'coat', 'crest', 'arms'] == TraceList(['arms', 'coat', 'crest', 'shield'])\n",
      "Retry 3\n",
      "Retry 4\n",
      "Measurements ~ breadth: ['extent', 'scope', 'reach', 'range'] == TraceList(['extent', 'range', 'reach', 'scope'])\n",
      "Armor ~ heraldry terms: ['shield', 'coat', 'crest', 'arms'] == TraceList(['arms', 'coat', 'crest', 'shield'])\n",
      "Retry 4\n",
      "Types of Awards ~ awards: ['trophy', 'cup', 'ribbon', 'medal'] == TraceList(['cup', 'medal', 'ribbon', 'trophy'])\n",
      "Retry 4\n",
      "Objects that Make Sound ~ hit hard: ['bang', 'slam', 'hammer', 'pound'] == TraceList(['bang', 'hammer', 'pound', 'slam'])\n",
      "Retry 4\n",
      "Retry 4\n",
      "Retry 4\n",
      "Monopoly pieces ~ original monopoly tokens: ['thimble', 'top hat', 'boot', 'iron'] == TraceList(['boot', 'iron', 'thimble', 'top hat'])\n",
      "Retry 4\n",
      "Soda Brands ~ soda brands: ['crush', 'sprite', 'mug', 'squirt'] == TraceList(['crush', 'mug', 'sprite', 'squirt'])\n",
      "Retry 4\n",
      "Measurements ~ breadth: ['extent', 'scope', 'reach', 'range'] == TraceList(['extent', 'range', 'reach', 'scope'])\n",
      "Armor ~ heraldry terms: ['shield', 'coat', 'crest', 'arms'] == TraceList(['arms', 'coat', 'crest', 'shield'])\n",
      "Measurements ~ breadth: ['extent', 'scope', 'reach', 'range'] == TraceList(['extent', 'range', 'reach', 'scope'])\n",
      "Armor ~ heraldry terms: ['shield', 'coat', 'crest', 'arms'] == TraceList(['arms', 'coat', 'crest', 'shield'])\n"
     ]
    },
    {
     "data": {
      "text/html": [
       "<pre style=\"white-space:pre;overflow-x:auto;line-height:normal;font-family:Menlo,'DejaVu Sans Mono',consolas,'Courier New',monospace\">Evaluated <span style=\"color: #008080; text-decoration-color: #008080; font-weight: bold\">3</span> of <span style=\"color: #008080; text-decoration-color: #008080; font-weight: bold\">10</span> examples\n",
       "</pre>\n"
      ],
      "text/plain": [
       "Evaluated \u001b[1;36m3\u001b[0m of \u001b[1;36m10\u001b[0m examples\n"
      ]
     },
     "metadata": {},
     "output_type": "display_data"
    },
    {
     "name": "stdout",
     "output_type": "stream",
     "text": [
      "Types of Awards ~ awards: ['trophy', 'cup', 'ribbon', 'medal'] == TraceList(['cup', 'medal', 'ribbon', 'trophy'])\n",
      "Types of Awards ~ awards: ['trophy', 'cup', 'ribbon', 'medal'] == TraceList(['cup', 'medal', 'ribbon', 'trophy'])\n"
     ]
    },
    {
     "data": {
      "text/html": [
       "<pre style=\"white-space:pre;overflow-x:auto;line-height:normal;font-family:Menlo,'DejaVu Sans Mono',consolas,'Courier New',monospace\">Evaluated <span style=\"color: #008080; text-decoration-color: #008080; font-weight: bold\">4</span> of <span style=\"color: #008080; text-decoration-color: #008080; font-weight: bold\">10</span> examples\n",
       "</pre>\n"
      ],
      "text/plain": [
       "Evaluated \u001b[1;36m4\u001b[0m of \u001b[1;36m10\u001b[0m examples\n"
      ]
     },
     "metadata": {},
     "output_type": "display_data"
    },
    {
     "name": "stdout",
     "output_type": "stream",
     "text": [
      "Plumbing ~ conduits for water removal: ['duct', 'pipe', 'drain', 'sewer'] == TraceList(['drain', 'duct', 'pipe', 'sewer'])\n",
      "Plumbing ~ conduits for water removal: ['duct', 'pipe', 'drain', 'sewer'] == TraceList(['drain', 'duct', 'pipe', 'sewer'])\n"
     ]
    },
    {
     "data": {
      "text/html": [
       "<pre style=\"white-space:pre;overflow-x:auto;line-height:normal;font-family:Menlo,'DejaVu Sans Mono',consolas,'Courier New',monospace\">Evaluated <span style=\"color: #008080; text-decoration-color: #008080; font-weight: bold\">5</span> of <span style=\"color: #008080; text-decoration-color: #008080; font-weight: bold\">10</span> examples\n",
       "</pre>\n"
      ],
      "text/plain": [
       "Evaluated \u001b[1;36m5\u001b[0m of \u001b[1;36m10\u001b[0m examples\n"
      ]
     },
     "metadata": {},
     "output_type": "display_data"
    },
    {
     "data": {
      "text/html": [
       "<pre style=\"white-space:pre;overflow-x:auto;line-height:normal;font-family:Menlo,'DejaVu Sans Mono',consolas,'Courier New',monospace\">Evaluated <span style=\"color: #008080; text-decoration-color: #008080; font-weight: bold\">6</span> of <span style=\"color: #008080; text-decoration-color: #008080; font-weight: bold\">10</span> examples\n",
       "</pre>\n"
      ],
      "text/plain": [
       "Evaluated \u001b[1;36m6\u001b[0m of \u001b[1;36m10\u001b[0m examples\n"
      ]
     },
     "metadata": {},
     "output_type": "display_data"
    },
    {
     "name": "stdout",
     "output_type": "stream",
     "text": [
      "Objects that Make Sound ~ hit hard: ['bang', 'slam', 'hammer', 'pound'] == TraceList(['bang', 'hammer', 'pound', 'slam'])\n",
      "Objects that Make Sound ~ hit hard: ['bang', 'slam', 'hammer', 'pound'] == TraceList(['bang', 'hammer', 'pound', 'slam'])\n"
     ]
    },
    {
     "data": {
      "text/html": [
       "<pre style=\"white-space:pre;overflow-x:auto;line-height:normal;font-family:Menlo,'DejaVu Sans Mono',consolas,'Courier New',monospace\">Evaluated <span style=\"color: #008080; text-decoration-color: #008080; font-weight: bold\">7</span> of <span style=\"color: #008080; text-decoration-color: #008080; font-weight: bold\">10</span> examples\n",
       "</pre>\n"
      ],
      "text/plain": [
       "Evaluated \u001b[1;36m7\u001b[0m of \u001b[1;36m10\u001b[0m examples\n"
      ]
     },
     "metadata": {},
     "output_type": "display_data"
    },
    {
     "data": {
      "text/html": [
       "<pre style=\"white-space:pre;overflow-x:auto;line-height:normal;font-family:Menlo,'DejaVu Sans Mono',consolas,'Courier New',monospace\">Evaluated <span style=\"color: #008080; text-decoration-color: #008080; font-weight: bold\">8</span> of <span style=\"color: #008080; text-decoration-color: #008080; font-weight: bold\">10</span> examples\n",
       "</pre>\n"
      ],
      "text/plain": [
       "Evaluated \u001b[1;36m8\u001b[0m of \u001b[1;36m10\u001b[0m examples\n"
      ]
     },
     "metadata": {},
     "output_type": "display_data"
    },
    {
     "name": "stdout",
     "output_type": "stream",
     "text": [
      "Monopoly pieces ~ original monopoly tokens: ['thimble', 'top hat', 'boot', 'iron'] == TraceList(['boot', 'iron', 'thimble', 'top hat'])\n",
      "Monopoly pieces ~ original monopoly tokens: ['thimble', 'top hat', 'boot', 'iron'] == TraceList(['boot', 'iron', 'thimble', 'top hat'])\n"
     ]
    },
    {
     "data": {
      "text/html": [
       "<pre style=\"white-space:pre;overflow-x:auto;line-height:normal;font-family:Menlo,'DejaVu Sans Mono',consolas,'Courier New',monospace\">Evaluated <span style=\"color: #008080; text-decoration-color: #008080; font-weight: bold\">9</span> of <span style=\"color: #008080; text-decoration-color: #008080; font-weight: bold\">10</span> examples\n",
       "</pre>\n"
      ],
      "text/plain": [
       "Evaluated \u001b[1;36m9\u001b[0m of \u001b[1;36m10\u001b[0m examples\n"
      ]
     },
     "metadata": {},
     "output_type": "display_data"
    },
    {
     "name": "stdout",
     "output_type": "stream",
     "text": [
      "Soda Brands ~ soda brands: ['crush', 'sprite', 'mug', 'squirt'] == TraceList(['crush', 'mug', 'sprite', 'squirt'])\n",
      "Soda Brands ~ soda brands: ['crush', 'sprite', 'mug', 'squirt'] == TraceList(['crush', 'mug', 'sprite', 'squirt'])\n"
     ]
    },
    {
     "data": {
      "text/html": [
       "<pre style=\"white-space:pre;overflow-x:auto;line-height:normal;font-family:Menlo,'DejaVu Sans Mono',consolas,'Courier New',monospace\">Evaluated <span style=\"color: #008080; text-decoration-color: #008080; font-weight: bold\">10</span> of <span style=\"color: #008080; text-decoration-color: #008080; font-weight: bold\">10</span> examples\n",
       "</pre>\n"
      ],
      "text/plain": [
       "Evaluated \u001b[1;36m10\u001b[0m of \u001b[1;36m10\u001b[0m examples\n"
      ]
     },
     "metadata": {},
     "output_type": "display_data"
    },
    {
     "data": {
      "text/html": [
       "<pre style=\"white-space:pre;overflow-x:auto;line-height:normal;font-family:Menlo,'DejaVu Sans Mono',consolas,'Courier New',monospace\">Evaluation summary\n",
       "<span style=\"font-weight: bold\">{</span>\n",
       "    <span style=\"color: #008000; text-decoration-color: #008000\">'check_solution'</span>: <span style=\"font-weight: bold\">{</span><span style=\"color: #008000; text-decoration-color: #008000\">'match'</span>: <span style=\"font-weight: bold\">{</span><span style=\"color: #008000; text-decoration-color: #008000\">'true_count'</span>: <span style=\"color: #008080; text-decoration-color: #008080; font-weight: bold\">2</span>, <span style=\"color: #008000; text-decoration-color: #008000\">'true_fraction'</span>: <span style=\"color: #008080; text-decoration-color: #008080; font-weight: bold\">0.2</span><span style=\"font-weight: bold\">}</span>, <span style=\"color: #008000; text-decoration-color: #008000\">'accuracy'</span>: <span style=\"font-weight: bold\">{</span><span style=\"color: #008000; text-decoration-color: #008000\">'mean'</span>: <span style=\"color: #008080; text-decoration-color: #008080; font-weight: bold\">0.375</span><span style=\"font-weight: bold\">}}</span>,\n",
       "    <span style=\"color: #008000; text-decoration-color: #008000\">'model_latency'</span>: <span style=\"font-weight: bold\">{</span><span style=\"color: #008000; text-decoration-color: #008000\">'mean'</span>: <span style=\"color: #008080; text-decoration-color: #008080; font-weight: bold\">18.09070508480072</span><span style=\"font-weight: bold\">}</span>\n",
       "<span style=\"font-weight: bold\">}</span>\n",
       "</pre>\n"
      ],
      "text/plain": [
       "Evaluation summary\n",
       "\u001b[1m{\u001b[0m\n",
       "    \u001b[32m'check_solution'\u001b[0m: \u001b[1m{\u001b[0m\u001b[32m'match'\u001b[0m: \u001b[1m{\u001b[0m\u001b[32m'true_count'\u001b[0m: \u001b[1;36m2\u001b[0m, \u001b[32m'true_fraction'\u001b[0m: \u001b[1;36m0.2\u001b[0m\u001b[1m}\u001b[0m, \u001b[32m'accuracy'\u001b[0m: \u001b[1m{\u001b[0m\u001b[32m'mean'\u001b[0m: \u001b[1;36m0.375\u001b[0m\u001b[1m}\u001b[0m\u001b[1m}\u001b[0m,\n",
       "    \u001b[32m'model_latency'\u001b[0m: \u001b[1m{\u001b[0m\u001b[32m'mean'\u001b[0m: \u001b[1;36m18.09070508480072\u001b[0m\u001b[1m}\u001b[0m\n",
       "\u001b[1m}\u001b[0m\n"
      ]
     },
     "metadata": {},
     "output_type": "display_data"
    },
    {
     "name": "stdout",
     "output_type": "stream",
     "text": [
      "🍩 https://wandb.ai/capecape/connections/r/call/ed7be433-4dc9-40c8-bb05-fa2f2e573dd5\n"
     ]
    },
    {
     "data": {
      "text/plain": [
       "{'check_solution': {'match': {'true_count': 2, 'true_fraction': 0.2},\n",
       "  'accuracy': {'mean': 0.375}},\n",
       " 'model_latency': {'mean': 18.09070508480072}}"
      ]
     },
     "execution_count": 22,
     "metadata": {},
     "output_type": "execute_result"
    }
   ],
   "source": [
    "weave_model2 = Model2(system_prompt=system_prompt1_5, user_prompt=user_prompt)\n",
    "\n",
    "await weave_eval.evaluate(weave_model2)"
   ]
  },
  {
   "cell_type": "markdown",
   "metadata": {},
   "source": [
    "## V3 COT"
   ]
  },
  {
   "cell_type": "code",
   "execution_count": 39,
   "metadata": {},
   "outputs": [],
   "source": [
    "\n",
    "system_prompt_cot = (\n",
    "    \"You are an expert puzzle solver. I want you to solve a daily word puzzle that finds commonalities between words. \"\n",
    "    \"There are 16 words, which form 4 groups of 4 words. Each group has some common theme that links the words. \"\n",
    "    \"You must use each of the 16 words, and use each word only once. Each group of 4 words are linked together in some way. \"\n",
    "    \"The connection between words can be simple. An example of a simple connection would be 'types of fish': Bass, Flounder, Salmon, Trout. \"\n",
    "    \"Categories can also be more complex, and require abstract or lateral thinking. An example of this type of connection would be 'things that start with FIRE': Ant, Drill, Island, Opal... \")\n",
    "\n",
    "cot_prompt = \"\"\"- First, briefly summarize the rules and objective of the puzzle (in no more than 50\n",
    "words)\n",
    "- Next, come up with a category to which four of the words belong and briefly explain why you think they belong to that category:\"\"\"\n",
    "\n",
    "user_prompt_cot = (\n",
    "    \"Provide the one group you are most sure of as your final answer. I will enter this into the puzzle and give you feedback: I will tell you whether it is correct, incorrect, or nearly correct (3/4 words). \"\n",
    "    \"Then we will continue until the puzzle is solved, or you lose. \"\n",
    "    \"The results should be in JSON format as following: category: [\\\"word1\\\", \\\"word2\\\", \\\"word3\\\", \\\"word4\\\"]\"\n",
    "    f\"Some rules: {cot_prompt} - Give your final answer in the format described above. \"\n",
    "    \"Do not add any additional text to your final answer, just the group name and the 4 words. \"\n",
    "    \"Here are the starting 16 words: {words} \"\n",
    ")\n"
   ]
  },
  {
   "cell_type": "code",
   "execution_count": 40,
   "metadata": {},
   "outputs": [
    {
     "data": {
      "text/plain": [
       "'Provide the one group you are most sure of as your final answer. I will enter this into the puzzle and give you feedback: I will tell you whether it is correct, incorrect, or nearly correct (3/4 words). Then we will continue until the puzzle is solved, or you lose. The results should be in JSON format as following: category: [\"word1\", \"word2\", \"word3\", \"word4\"]Some rules: - First, briefly summarize the rules and objective of the puzzle (in no more than 50\\nwords)\\n- Next, come up with a category to which four of the words belong and briefly explain why you think they belong to that category: - Give your final answer in the format described above. Do not add any additional text to your final answer, just the group name and the 4 words. Here are the starting 16 words: hola '"
      ]
     },
     "execution_count": 40,
     "metadata": {},
     "output_type": "execute_result"
    }
   ],
   "source": [
    "user_prompt_cot.format(words=\"hola\")"
   ]
  },
  {
   "cell_type": "code",
   "execution_count": 46,
   "metadata": {},
   "outputs": [
    {
     "name": "stdout",
     "output_type": "stream",
     "text": [
      "🍩 https://wandb.ai/capecape/connections/r/call/6b5d757c-4dec-47f7-8a89-0cb9c5b5655e\n"
     ]
    }
   ],
   "source": [
    "generation = generate_solution(system_prompt_cot, user_prompt_cot.format(words=ds[0][\"words\"]))"
   ]
  },
  {
   "cell_type": "code",
   "execution_count": 49,
   "metadata": {},
   "outputs": [
    {
     "data": {
      "text/plain": [
       "{'category': ['duct', 'pipe', 'drain', 'sewer']}"
      ]
     },
     "execution_count": 49,
     "metadata": {},
     "output_type": "execute_result"
    }
   ],
   "source": [
    "generation"
   ]
  },
  {
   "cell_type": "code",
   "execution_count": 47,
   "metadata": {},
   "outputs": [],
   "source": [
    "@weave.op()\n",
    "def check_one_solution(categories, model_output):\n",
    "    \"Check that all group of words match the solution\"    \n",
    "\n",
    "    try: # this is ugly, weave shouldn't crash even if chatGPT failed\n",
    "        for sol_cat, sol_group in categories.items():\n",
    "            for gen_cat, gen_group in model_output.items():\n",
    "                if set(gen_group) == set(sol_group):\n",
    "                    print(f\"{gen_cat} ~ {sol_cat}: {gen_group} == {sol_group}\")\n",
    "                    return {\"match\": True }\n",
    "        else: \n",
    "            return {\"match\": False} \n",
    "    except:\n",
    "        return {\"match\": False} "
   ]
  },
  {
   "cell_type": "code",
   "execution_count": 48,
   "metadata": {},
   "outputs": [
    {
     "name": "stdout",
     "output_type": "stream",
     "text": [
      "category ~ conduits for water removal: ['duct', 'pipe', 'drain', 'sewer'] == ['drain', 'duct', 'pipe', 'sewer']\n",
      "🍩 https://wandb.ai/capecape/connections/r/call/2171d7bf-9406-46f3-851a-906af82b35b4\n"
     ]
    },
    {
     "data": {
      "text/plain": [
       "{'match': True}"
      ]
     },
     "execution_count": 48,
     "metadata": {},
     "output_type": "execute_result"
    }
   ],
   "source": [
    "check_one_solution(ds[0][\"categories\"], generation)"
   ]
  },
  {
   "cell_type": "code",
   "execution_count": null,
   "metadata": {},
   "outputs": [],
   "source": [
    "class Model3(weave.Model):\n",
    "    system_prompt: str\n",
    "    user_prompt: str\n",
    "    max_retries: int = 4\n",
    "\n",
    "    @weave.op()\n",
    "    def create_incorrect_prompt(self, words, solutions, accuracy, correct):\n",
    "        incorrect_prompt = (\n",
    "            f\"You recently tried solving the puzzle with the following words: \\n {words}\\n\"\n",
    "            \"You produced the following solutions that are incorrect: \\n\"\n",
    "            \"\\n\".join(str(solutions))\n",
    "        )\n",
    "        if accuracy>0.:\n",
    "            incorrect_prompt += (\n",
    "                f\"\\nYou had {4*accuracy} categories correct\"\n",
    "                f\"\\nThe correct guesses where: \\n {correct}\"\n",
    "            )\n",
    "\n",
    "        incorrect_prompt+=(\n",
    "            \"\\nTake this into account, and try to generate a correct solution this time. \"\n",
    "            \"\\nMake sure you don't repeat any previous guesses\"\n",
    "        )\n",
    "        return incorrect_prompt\n",
    "\n",
    "    @weave.op()\n",
    "    def predict(self, words, categories):\n",
    "        retries = 0\n",
    "        previous_generations = []\n",
    "        generation = generate_solution(self.system_prompt, self.user_prompt.format(words=words))\n",
    "        scores = check_solution(categories, generation)\n",
    "        if scores[\"match\"]:\n",
    "            return generation\n",
    "        else:\n",
    "            while (retries < self.max_retries and not scores[\"match\"]):\n",
    "                previous_generations.append(generation)\n",
    "                retries+=1\n",
    "                print(f\"Retry {retries}\")\n",
    "                generation = generate_solution(\n",
    "                    self.system_prompt, \n",
    "                    self.create_incorrect_prompt(words, previous_generations, scores[\"accuracy\"], scores[\"correct\"]))\n",
    "                scores = check_solution(categories, generation)\n",
    "        return generation\n"
   ]
  }
 ],
 "metadata": {
  "kernelspec": {
   "display_name": "weave",
   "language": "python",
   "name": "python3"
  },
  "language_info": {
   "codemirror_mode": {
    "name": "ipython",
    "version": 3
   },
   "file_extension": ".py",
   "mimetype": "text/x-python",
   "name": "python",
   "nbconvert_exporter": "python",
   "pygments_lexer": "ipython3",
   "version": "3.11.8"
  }
 },
 "nbformat": 4,
 "nbformat_minor": 2
}
