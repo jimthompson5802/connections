{
 "cells": [
  {
   "cell_type": "markdown",
   "metadata": {},
   "source": [
    "# Connections\n",
    "\n",
    "Brief description of the problem, link to the website, etc..."
   ]
  },
  {
   "cell_type": "code",
   "execution_count": 6,
   "metadata": {},
   "outputs": [],
   "source": [
    "# load a jsonl file\n",
    "import json\n",
    "\n",
    "def load_jsonl(file_path):\n",
    "    data = []\n",
    "    with open(file_path, 'r') as file:\n",
    "        for line in file:\n",
    "            data.append(json.loads(line))\n",
    "    return data\n",
    "\n",
    "ds = load_jsonl('connections_prompts.jsonl')"
   ]
  },
  {
   "cell_type": "code",
   "execution_count": 9,
   "metadata": {},
   "outputs": [
    {
     "name": "stdout",
     "output_type": "stream",
     "text": [
      "['schmaltz', 'knuckles', 'corn', 'sap', 'loose', 'smile', 'chump', 'egg', 'duct', 'pipe', 'climate', 'sea', 'cheese', 'window', 'drain', 'sewer']\n"
     ]
    }
   ],
   "source": [
    "print(ds[0][\"words\"])\n",
    "\n"
   ]
  },
  {
   "cell_type": "markdown",
   "metadata": {},
   "source": [
    "## Naive approach"
   ]
  },
  {
   "cell_type": "code",
   "execution_count": 25,
   "metadata": {},
   "outputs": [],
   "source": [
    "from openai import OpenAI\n",
    "\n",
    "client = OpenAI()"
   ]
  },
  {
   "cell_type": "code",
   "execution_count": 91,
   "metadata": {},
   "outputs": [],
   "source": [
    "\n",
    "system_prompt = (\n",
    "    \"\"\"The game \"Connections\" is a word game where you start with 16 words and need to group \"\"\"\n",
    "    \"\"\"them into 4 groups of 4. Each grouping has a category that unambiguously groups the four words together.\"\"\"\n",
    "    \"\"\"Each puzzle has exactly one solution. Watch out for words that seem to belong to multiple categories.\"\"\"\n",
    "    \"\"\"You will be given 16 words. Output 4 groups of 4 words and the categories to which they belong\"\"\"\n",
    "    \"\"\"The results should be in JSON format as following:\n",
    "    {\"category1\": [\"word1\", \"word2\", \"word3\", \"word4\"], \"category2\": [\"word1\", \"word2\", \"word3\", \"word4\"]}]}\n",
    "    \"\"\"\n",
    ")\n",
    "\n",
    "user_prompt = \"Here are the 16 words: {words}\""
   ]
  },
  {
   "cell_type": "code",
   "execution_count": 133,
   "metadata": {},
   "outputs": [],
   "source": [
    "def call_openai(system_prompt, user_prompt, model=\"gpt-4o\"):\n",
    "    response = client.chat.completions.create(\n",
    "        model=model,\n",
    "        messages=[\n",
    "            {\n",
    "                \"role\": \"system\",\n",
    "                \"content\": system_prompt\n",
    "            },\n",
    "            {\n",
    "                \"role\": \"user\",\n",
    "                \"content\": user_prompt\n",
    "            }\n",
    "            ],\n",
    "            temperature=0.7,\n",
    "            response_format={ \"type\": \"json_object\" }\n",
    "        )\n",
    "    extracted = response.choices[0].message.content\n",
    "    return extracted"
   ]
  },
  {
   "cell_type": "code",
   "execution_count": 93,
   "metadata": {},
   "outputs": [],
   "source": [
    "res = call_openai(system_prompt, user_prompt.format(words=ds[0][\"words\"]))\n",
    "generation = json.loads(res)"
   ]
  },
  {
   "cell_type": "code",
   "execution_count": 99,
   "metadata": {},
   "outputs": [
    {
     "name": "stdout",
     "output_type": "stream",
     "text": [
      "('Body Parts', ['knuckles', 'smile', 'corn', 'sap'])\n",
      "('Food', ['egg', 'cheese', 'corn', 'sap'])\n",
      "('Plumbing', ['duct', 'pipe', 'drain', 'sewer'])\n",
      "('Miscellaneous', ['schmaltz', 'loose', 'chump', 'climate'])\n"
     ]
    }
   ],
   "source": [
    "for group in generation.items():\n",
    "    print(group)"
   ]
  },
  {
   "cell_type": "markdown",
   "metadata": {},
   "source": [
    "Let's create a function to check if the groups are valid"
   ]
  },
  {
   "cell_type": "code",
   "execution_count": 105,
   "metadata": {},
   "outputs": [
    {
     "data": {
      "text/plain": [
       "[['knuckles', 'smile', 'corn', 'sap'],\n",
       " ['egg', 'cheese', 'corn', 'sap'],\n",
       " ['duct', 'pipe', 'drain', 'sewer'],\n",
       " ['schmaltz', 'loose', 'chump', 'climate']]"
      ]
     },
     "execution_count": 105,
     "metadata": {},
     "output_type": "execute_result"
    }
   ],
   "source": [
    "flat_generation = list(generation.values())\n",
    "flat_generation"
   ]
  },
  {
   "cell_type": "code",
   "execution_count": 106,
   "metadata": {},
   "outputs": [
    {
     "data": {
      "text/plain": [
       "[['drain', 'duct', 'pipe', 'sewer'],\n",
       " ['cheese', 'corn', 'sap', 'schmaltz'],\n",
       " ['egg', 'knuckles', 'smile', 'window'],\n",
       " ['chump', 'climate', 'loose', 'sea']]"
      ]
     },
     "execution_count": 106,
     "metadata": {},
     "output_type": "execute_result"
    }
   ],
   "source": [
    "flat_solution = list(ds[0][\"categories\"].values())\n",
    "flat_solution"
   ]
  },
  {
   "cell_type": "code",
   "execution_count": 128,
   "metadata": {},
   "outputs": [],
   "source": [
    "def check_solution(generation, solution):\n",
    "    \"Check that all group of words match the solution\"    \n",
    "    accuracy = 0.\n",
    "    \n",
    "    for sol_cat, sol_group in solution.items():\n",
    "        for gen_cat, gen_group in generation.items():\n",
    "            if set(gen_group) == set(sol_group):\n",
    "                print(f\"{gen_cat} ~ {sol_cat}: {gen_group} == {sol_group}\")\n",
    "                accuracy += 1\n",
    "    return accuracy / len(flat_solution)"
   ]
  },
  {
   "cell_type": "code",
   "execution_count": 129,
   "metadata": {},
   "outputs": [
    {
     "name": "stdout",
     "output_type": "stream",
     "text": [
      "Plumbing ~ conduits for water removal: ['duct', 'pipe', 'drain', 'sewer'] == ['drain', 'duct', 'pipe', 'sewer']\n"
     ]
    },
    {
     "data": {
      "text/plain": [
       "0.25"
      ]
     },
     "execution_count": 129,
     "metadata": {},
     "output_type": "execute_result"
    }
   ],
   "source": [
    "check_solution(generation, ds[0][\"categories\"])"
   ]
  },
  {
   "cell_type": "markdown",
   "metadata": {},
   "source": [
    "## Refactor"
   ]
  },
  {
   "cell_type": "code",
   "execution_count": 134,
   "metadata": {},
   "outputs": [],
   "source": [
    "def generate_solution(sample):\n",
    "    res = call_openai(system_prompt, user_prompt.format(words=sample[\"words\"]))\n",
    "    generation = json.loads(res)\n",
    "    return generation"
   ]
  },
  {
   "cell_type": "code",
   "execution_count": 135,
   "metadata": {},
   "outputs": [],
   "source": [
    "generations = [generate_solution(sample) for sample in ds[0:10]]"
   ]
  },
  {
   "cell_type": "code",
   "execution_count": 140,
   "metadata": {},
   "outputs": [
    {
     "name": "stdout",
     "output_type": "stream",
     "text": [
      "category2 ~ conduits for water removal: ['duct', 'pipe', 'drain', 'sewer'] == ['drain', 'duct', 'pipe', 'sewer']\n",
      "category3 ~ food products associated with sentimentality: ['schmaltz', 'corn', 'sap', 'cheese'] == ['cheese', 'corn', 'sap', 'schmaltz']\n",
      "bands ~ classic rock bands: ['rush', 'genesis', 'kansas', 'yes'] == ['genesis', 'kansas', 'rush', 'yes']\n",
      "Fruit/Vegetable ~ vegetables that are also fruits: ['eggplant', 'cucumber', 'tomato', 'pepper'] == ['cucumber', 'eggplant', 'pepper', 'tomato']\n",
      "Geometric Shape ~ 3-d shapes: ['cube', 'cone', 'pyramid', 'sphere'] == ['cone', 'cube', 'pyramid', 'sphere']\n",
      "Apple Products ~ words with “i”: ['pad', 'pod', 'mac', 'phone'] == ['mac', 'pad', 'phone', 'pod']\n",
      "Verbs ~ words with two pronunciations: ['mobile', 'lima', 'job', 'polish'] == ['job', 'lima', 'mobile', 'polish']\n",
      "Musical Terms ~ musical sections: ['brass', 'string', 'wind', 'rhythm'] == ['brass', 'rhythm', 'string', 'wind']\n",
      "awards ~ awards: ['cup', 'trophy', 'ribbon', 'medal'] == ['cup', 'medal', 'ribbon', 'trophy']\n",
      "dances ~ dance fads: ['twist', 'mashed potato', 'dougie', 'macarena'] == ['dougie', 'macarena', 'mashed potato', 'twist']\n",
      "\n",
      "Total accuracy: 2.5\n",
      "Perfect match: 1.0\n"
     ]
    }
   ],
   "source": [
    "def check_solutions(generations, ds):\n",
    "    total_acc = 0.\n",
    "    perfect_match = 0.\n",
    "    for gen, sol in zip(generations, ds):\n",
    "        acc = check_solution(gen, sol[\"categories\"])\n",
    "        if acc == 1.0:\n",
    "            perfect_match += 1\n",
    "        total_acc += acc\n",
    "    print(f\"\\nTotal accuracy: {total_acc}\")\n",
    "    print(f\"Perfect match: {perfect_match}\")\n",
    "\n",
    "check_solutions(generations, ds[0:10])\n",
    "\n"
   ]
  },
  {
   "cell_type": "code",
   "execution_count": 141,
   "metadata": {},
   "outputs": [],
   "source": [
    "extra_system_prompt = \"\"\"\n",
    "Check your solution before submitting it. Be sure about:\n",
    "- that you have 4 groups of 4 words each\n",
    "- that the words are not in the same category\n",
    "- that the words are not in the same group\n",
    "- that the words are not in the same category\n",
    "\"\"\""
   ]
  },
  {
   "cell_type": "code",
   "execution_count": 142,
   "metadata": {},
   "outputs": [
    {
     "name": "stdout",
     "output_type": "stream",
     "text": [
      "category3 ~ conduits for water removal: ['duct', 'pipe', 'drain', 'sewer'] == ['drain', 'duct', 'pipe', 'sewer']\n",
      "category3 ~ breadth: ['extent', 'scope', 'reach', 'range'] == ['extent', 'range', 'reach', 'scope']\n",
      "US States ~ u.s. mountain states: ['utah', 'arizona', 'nevada', 'colorado'] == ['arizona', 'colorado', 'nevada', 'utah']\n",
      "Carbonated Drinks ~ soda brands: ['sprite', 'mug', 'crush', 'squirt'] == ['crush', 'mug', 'sprite', 'squirt']\n",
      "Bands ~ classic rock bands: ['rush', 'genesis', 'kansas', 'yes'] == ['genesis', 'kansas', 'rush', 'yes']\n",
      "Fictional Characters ~ tony ___: ['hawk', 'soprano', 'stark', 'montana'] == ['hawk', 'montana', 'soprano', 'stark']\n",
      "Fruits/Vegetables ~ vegetables that are also fruits: ['eggplant', 'cucumber', 'tomato', 'pepper'] == ['cucumber', 'eggplant', 'pepper', 'tomato']\n",
      "Shapes ~ 3-d shapes: ['cube', 'cone', 'pyramid', 'sphere'] == ['cone', 'cube', 'pyramid', 'sphere']\n",
      "Apple Products ~ words with “i”: ['pad', 'pod', 'mac', 'phone'] == ['mac', 'pad', 'phone', 'pod']\n",
      "NATO Phonetic Alphabet (Lima) ~ words with two pronunciations: ['lima', 'mobile', 'job', 'polish'] == ['job', 'lima', 'mobile', 'polish']\n",
      "Awards ~ awards: ['cup', 'trophy', 'ribbon', 'medal'] == ['cup', 'medal', 'ribbon', 'trophy']\n",
      "Dances ~ dance fads: ['twist', 'mashed potato', 'dougie', 'macarena'] == ['dougie', 'macarena', 'mashed potato', 'twist']\n",
      "\n",
      "Total accuracy: 3.0\n",
      "Perfect match: 2.0\n"
     ]
    }
   ],
   "source": [
    "def generate_solution(sample):\n",
    "    res = call_openai(system_prompt+extra_system_prompt, user_prompt.format(words=sample[\"words\"]))\n",
    "    generation = json.loads(res)\n",
    "    return generation\n",
    "\n",
    "generations_2 = [generate_solution(sample) for sample in ds[0:10]]\n",
    "check_solutions(generations_2, ds[0:10])"
   ]
  },
  {
   "cell_type": "code",
   "execution_count": null,
   "metadata": {},
   "outputs": [],
   "source": []
  }
 ],
 "metadata": {
  "kernelspec": {
   "display_name": "weave",
   "language": "python",
   "name": "python3"
  },
  "language_info": {
   "codemirror_mode": {
    "name": "ipython",
    "version": 3
   },
   "file_extension": ".py",
   "mimetype": "text/x-python",
   "name": "python",
   "nbconvert_exporter": "python",
   "pygments_lexer": "ipython3",
   "version": "3.11.8"
  }
 },
 "nbformat": 4,
 "nbformat_minor": 2
}
